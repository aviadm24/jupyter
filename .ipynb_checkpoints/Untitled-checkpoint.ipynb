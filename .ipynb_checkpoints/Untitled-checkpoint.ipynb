{
 "cells": [
  {
   "cell_type": "markdown",
   "metadata": {},
   "source": [
    "שאלות המחקר המבוקשות הן:\n",
    "1. מהי רמת הקורלציה בין ריכוז בבדיקות השונות, תנועה בבדיקות השונות, מבנה בבדיקות השונות.\n",
    "2. האם ניתן להגיע לנוסחה מסוימת ולפיה ככלל סטיית התקן שבין שתי הבדיקות דומה פחות או יותר.\n",
    "3. האם יש קשר בין מקום ביצוע בדיקת הכוסית לבין הקורלציה בנתונים השונים של הבדיקות (דהיינו האם עדיף לשלוח למקום שבו עושים הרבה בדיקות כוסית כי אז הן יהיו יותר מדויקות או שאין משמעות).\n",
    "4. האם דגימה של כוסית בנפח גבוה יותר (מעל 0.5 מ\"ל או מעל 1 מ\"ל) נותנת נתונים אמינים יותר?"
   ]
  },
  {
   "cell_type": "code",
   "execution_count": null,
   "metadata": {},
   "outputs": [],
   "source": [
    "import pandas as pd\n",
    "\n",
    "df = pd.read_excel(\"check.xls\", na_values=['לא ידוע', 'אין'])\n",
    "df.columns = [\"id\", \"hospital\", \"valume\", \"con_cup\", \"con_check\", \"movement_cup\", \"movement_check\", \"formation_cup\", \"formation_check\"]\n",
    "df.hospital = pd.Categorical(df.hospital)\n",
    "df['code'] = df.hospital.cat.codes\n",
    "# df['formation_cup'] = df[\"formation_cup\"].str.repalce(\"WHO\",\"\")\n",
    "df['formation_cup'] = df['formation_cup'].map(lambda x: str(x).lstrip('WHO').rstrip('WHO'))\n",
    "df['formation_check'] = df['formation_check'].map(lambda x: str(x).lstrip('WHO').rstrip('WHO'))\n",
    "df['formation_check']"
   ]
  },
  {
   "cell_type": "code",
   "execution_count": null,
   "metadata": {},
   "outputs": [],
   "source": [
    "import numpy as np\n",
    "import numpy.ma as ma\n",
    "\n",
    "# df['formation_cup'] = df['formation_cup'].fillna(0, inplace=True)\n",
    "# df['formation_check'] = df['formation_check'].fillna(0, inplace=True)\n",
    "for index,i in enumerate(df['formation_check']):\n",
    "    print(type(i))\n",
    "    if isinstance(i, str):\n",
    "        print(i)\n",
    "        try:\n",
    "            df['formation_check'][index] = int(i)\n",
    "        except:\n",
    "            pass\n",
    "df['formation_check']\n",
    "# print(ma.corrcoef(ma.masked_invalid(df['formation_cup']), ma.masked_invalid(df['formation_check'])))\n",
    "# msk = (~df['formation_cup'].mask & ~df['formation_check'].mask)\n",
    "\n",
    "# print(ma.corrcoef(df['formation_cup'][msk],df['formation_check'][msk]))"
   ]
  },
  {
   "cell_type": "code",
   "execution_count": null,
   "metadata": {},
   "outputs": [],
   "source": [
    "corr_movement = df[\"movement_cup\"].corr(df[\"movement_check\"])\n",
    "corr_consertrat = df[\"con_cup\"].corr(df[\"con_check\"])\n",
    "corr_formation = df[\"formation_cup\"].astype('float').corr(df[\"formation_check\"].astype('float'))\n"
   ]
  },
  {
   "cell_type": "code",
   "execution_count": null,
   "metadata": {},
   "outputs": [],
   "source": [
    "print(\"corr_movement: \", corr_movement)\n",
    "print(\"corr_consertrat: \", corr_consertrat)\n",
    "print(\"corr_formation: \", corr_formation)"
   ]
  },
  {
   "cell_type": "code",
   "execution_count": null,
   "metadata": {},
   "outputs": [],
   "source": [
    "import seaborn as sns"
   ]
  },
  {
   "cell_type": "code",
   "execution_count": null,
   "metadata": {},
   "outputs": [],
   "source": [
    "df(columns=[\"movement_cup\", \"movement_check\"])\n",
    "sns.relplot(x=\"x\", y=\"y\", sort=False, kind=\"line\", data=df);"
   ]
  }
 ],
 "metadata": {
  "kernelspec": {
   "display_name": "Python 3",
   "language": "python",
   "name": "python3"
  },
  "language_info": {
   "codemirror_mode": {
    "name": "ipython",
    "version": 3
   },
   "file_extension": ".py",
   "mimetype": "text/x-python",
   "name": "python",
   "nbconvert_exporter": "python",
   "pygments_lexer": "ipython3",
   "version": "3.6.4"
  }
 },
 "nbformat": 4,
 "nbformat_minor": 4
}
