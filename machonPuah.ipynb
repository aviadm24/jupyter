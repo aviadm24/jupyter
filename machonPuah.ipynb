{
  "nbformat": 4,
  "nbformat_minor": 0,
  "metadata": {
    "kernelspec": {
      "display_name": "Python 3",
      "language": "python",
      "name": "python3"
    },
    "language_info": {
      "codemirror_mode": {
        "name": "ipython",
        "version": 3
      },
      "file_extension": ".py",
      "mimetype": "text/x-python",
      "name": "python",
      "nbconvert_exporter": "python",
      "pygments_lexer": "ipython3",
      "version": "3.8.0"
    },
    "colab": {
      "name": "Untitled.ipynb",
      "provenance": []
    }
  },
  "cells": [
    {
      "cell_type": "markdown",
      "metadata": {
        "id": "sJJIDeAF0i5b"
      },
      "source": [
        "שאלות המחקר המבוקשות הן:\n",
        "1. מהי רמת הקורלציה בין ריכוז בבדיקות השונות, תנועה בבדיקות השונות, מבנה בבדיקות השונות.\n",
        "2. האם ניתן להגיע לנוסחה מסוימת ולפיה ככלל סטיית התקן שבין שתי הבדיקות דומה פחות או יותר.\n",
        "3. האם יש קשר בין מקום ביצוע בדיקת הכוסית לבין הקורלציה בנתונים השונים של הבדיקות (דהיינו האם עדיף לשלוח למקום שבו עושים הרבה בדיקות כוסית כי אז הן יהיו יותר מדויקות או שאין משמעות).\n",
        "4. האם דגימה של כוסית בנפח גבוה יותר (מעל 0.5 מ\"ל או מעל 1 מ\"ל) נותנת נתונים אמינים יותר?"
      ]
    },
    {
      "cell_type": "code",
      "metadata": {
        "id": "Bkokd8Q8Ygh7"
      },
      "source": [
        ""
      ],
      "execution_count": 39,
      "outputs": []
    },
    {
      "cell_type": "code",
      "metadata": {
        "id": "8a4UdvDn0i5b"
      },
      "source": [
        "import xlrd\n",
        "import pandas as pd\n",
        "import seaborn as sns\n",
        "\n",
        "# df = pd.read_excel(\"check.xls\", na_values=['לא ידוע', 'אין'])\n",
        "df = pd.ExcelFile(\"https://github.com/aviadm24/jupyter/blob/master/check.xls?raw=true\")\n",
        "df = pd.read_excel(df, na_values=['לא ידוע', 'אין', 'טיפה'])\n",
        "df.columns = [\"id\", \"hospital\", \"valume\", \"con_cup\", \"con_check\", \"movement_cup\", \"movement_check\", \"formation_cup\", \"formation_check\"]\n",
        "df.hospital = pd.Categorical(df.hospital)\n",
        "df['code'] = df.hospital.cat.codes\n",
        "# df['formation_cup'] = df[\"formation_cup\"].str.repalce(\"WHO\",\"\")\n",
        "df['formation_cup'] = df['formation_cup'].map(lambda x: str(x).lstrip('WHO').rstrip('WHO'))\n",
        "df['formation_check'] = df['formation_check'].map(lambda x: str(x).lstrip('WHO').rstrip('WHO'))"
      ],
      "execution_count": 40,
      "outputs": []
    },
    {
      "cell_type": "markdown",
      "metadata": {
        "id": "DGmT2Vb79Mx_"
      },
      "source": [
        "ניקוי הדטה כדי שנוכל לעבד אותו"
      ]
    },
    {
      "cell_type": "code",
      "metadata": {
        "colab": {
          "base_uri": "https://localhost:8080/"
        },
        "id": "NDw_-AMc0i5c",
        "outputId": "402fb88d-5d78-49f1-b8eb-e2864a892e0b"
      },
      "source": [
        "import numpy as np\n",
        "import numpy.ma as ma\n",
        "\n",
        "# df['formation_cup'] = df['formation_cup'].fillna(0, inplace=True)\n",
        "# df['formation_check'] = df['formation_check'].fillna(0, inplace=True)\n",
        "for index,i in enumerate(df['formation_check']):\n",
        "    if isinstance(i, str):\n",
        "        try:\n",
        "            df['formation_check'][index] = int(i)\n",
        "        except:\n",
        "            pass\n",
        "# print(ma.corrcoef(ma.masked_invalid(df['formation_cup']), ma.masked_invalid(df['formation_check'])))\n",
        "# msk = (~df['formation_cup'].mask & ~df['formation_check'].mask)\n",
        "\n",
        "# print(ma.corrcoef(df['formation_cup'][msk],df['formation_check'][msk]))"
      ],
      "execution_count": 41,
      "outputs": [
        {
          "output_type": "stream",
          "text": [
            "/usr/local/lib/python3.6/dist-packages/ipykernel_launcher.py:9: SettingWithCopyWarning: \n",
            "A value is trying to be set on a copy of a slice from a DataFrame\n",
            "\n",
            "See the caveats in the documentation: https://pandas.pydata.org/pandas-docs/stable/user_guide/indexing.html#returning-a-view-versus-a-copy\n",
            "  if __name__ == '__main__':\n"
          ],
          "name": "stderr"
        }
      ]
    },
    {
      "cell_type": "markdown",
      "metadata": {
        "id": "0J2zZfxq9KT0"
      },
      "source": [
        "חישוב קורלציה בין ריכוז בבדיקות השונות, תנועה בבדיקות השונות, מבנה בבדיקות השונות - בכלל בתי החולים"
      ]
    },
    {
      "cell_type": "code",
      "metadata": {
        "id": "2j6mM31I0i5c"
      },
      "source": [
        "corr_movement = df[\"movement_cup\"].astype('float').corr(df[\"movement_check\"]).astype('float')\n",
        "corr_consertrat = df[\"con_cup\"].corr(df[\"con_check\"])\n",
        "corr_formation = df[\"formation_cup\"].astype('float').corr(df[\"formation_check\"].astype('float'))\n"
      ],
      "execution_count": 42,
      "outputs": []
    },
    {
      "cell_type": "code",
      "metadata": {
        "id": "sS3W5dy_0i5c",
        "colab": {
          "base_uri": "https://localhost:8080/"
        },
        "outputId": "8a4be0f3-352d-4d3f-a588-37043c745576"
      },
      "source": [
        "print(\"corr_movement: \", corr_movement)\n",
        "print(\"corr_consertrat: \", corr_consertrat)\n",
        "print(\"corr_formation: \", corr_formation)"
      ],
      "execution_count": 43,
      "outputs": [
        {
          "output_type": "stream",
          "text": [
            "corr_movement:  0.6318152917636762\n",
            "corr_consertrat:  0.7138309800573162\n",
            "corr_formation:  0.6590311986439481\n"
          ],
          "name": "stdout"
        }
      ]
    },
    {
      "cell_type": "code",
      "metadata": {
        "id": "yUlDwzSx0i5c",
        "colab": {
          "base_uri": "https://localhost:8080/",
          "height": 296
        },
        "outputId": "5fae8df9-7920-42d3-881d-15b79a84c5bb"
      },
      "source": [
        "corrDf = pd.DataFrame()\n",
        "corrDf[\"movement\"] = [corr_movement]\n",
        "print(\"corr_movement: \", corr_movement)\n",
        "corrDf[\"consertrat\"] = [corr_consertrat]\n",
        "corrDf[\"formation\"] = [corr_formation]\n",
        "corrDf.plot(kind='bar')"
      ],
      "execution_count": 44,
      "outputs": [
        {
          "output_type": "stream",
          "text": [
            "corr_movement:  0.6318152917636762\n"
          ],
          "name": "stdout"
        },
        {
          "output_type": "execute_result",
          "data": {
            "text/plain": [
              "<matplotlib.axes._subplots.AxesSubplot at 0x7f98e483acf8>"
            ]
          },
          "metadata": {
            "tags": []
          },
          "execution_count": 44
        },
        {
          "output_type": "display_data",
          "data": {
            "image/png": "[encoded data removed]",
            "text/plain": [
              "<Figure size 432x288 with 1 Axes>"
            ]
          },
          "metadata": {
            "tags": [],
            "needs_background": "light"
          }
        }
      ]
    },
    {
      "cell_type": "code",
      "metadata": {
        "id": "DRDEvBIa0i5c",
        "colab": {
          "base_uri": "https://localhost:8080/",
          "height": 419
        },
        "outputId": "0e8a1cff-053d-438c-f8d3-e8c3ec007131"
      },
      "source": [
        "df"
      ],
      "execution_count": 45,
      "outputs": [
        {
          "output_type": "execute_result",
          "data": {
            "text/html": [
              "<div>\n",
              "<style scoped>\n",
              "    .dataframe tbody tr th:only-of-type {\n",
              "        vertical-align: middle;\n",
              "    }\n",
              "\n",
              "    .dataframe tbody tr th {\n",
              "        vertical-align: top;\n",
              "    }\n",
              "\n",
              "    .dataframe thead th {\n",
              "        text-align: right;\n",
              "    }\n",
              "</style>\n",
              "<table border=\"1\" class=\"dataframe\">\n",
              "  <thead>\n",
              "    <tr style=\"text-align: right;\">\n",
              "      <th></th>\n",
              "      <th>id</th>\n",
              "      <th>hospital</th>\n",
              "      <th>valume</th>\n",
              "      <th>con_cup</th>\n",
              "      <th>con_check</th>\n",
              "      <th>movement_cup</th>\n",
              "      <th>movement_check</th>\n",
              "      <th>formation_cup</th>\n",
              "      <th>formation_check</th>\n",
              "      <th>code</th>\n",
              "    </tr>\n",
              "  </thead>\n",
              "  <tbody>\n",
              "    <tr>\n",
              "      <th>0</th>\n",
              "      <td>56674</td>\n",
              "      <td>אחר</td>\n",
              "      <td>NaN</td>\n",
              "      <td>0.2</td>\n",
              "      <td>2.0</td>\n",
              "      <td>0.0001</td>\n",
              "      <td>0.0001</td>\n",
              "      <td>0</td>\n",
              "      <td>2</td>\n",
              "      <td>0</td>\n",
              "    </tr>\n",
              "    <tr>\n",
              "      <th>1</th>\n",
              "      <td>57548</td>\n",
              "      <td>שפרה</td>\n",
              "      <td>1.0</td>\n",
              "      <td>12.0</td>\n",
              "      <td>30.0</td>\n",
              "      <td>25.0000</td>\n",
              "      <td>20.0000</td>\n",
              "      <td>2</td>\n",
              "      <td>4</td>\n",
              "      <td>3</td>\n",
              "    </tr>\n",
              "    <tr>\n",
              "      <th>2</th>\n",
              "      <td>73934</td>\n",
              "      <td>שפרה</td>\n",
              "      <td>0.5</td>\n",
              "      <td>0.8</td>\n",
              "      <td>0.5</td>\n",
              "      <td>38.0000</td>\n",
              "      <td>20.0000</td>\n",
              "      <td>nan</td>\n",
              "      <td>nan</td>\n",
              "      <td>3</td>\n",
              "    </tr>\n",
              "    <tr>\n",
              "      <th>3</th>\n",
              "      <td>75504</td>\n",
              "      <td>אחר</td>\n",
              "      <td>1.5</td>\n",
              "      <td>75.0</td>\n",
              "      <td>33.0</td>\n",
              "      <td>30.0000</td>\n",
              "      <td>55.0000</td>\n",
              "      <td>14</td>\n",
              "      <td>nan</td>\n",
              "      <td>0</td>\n",
              "    </tr>\n",
              "    <tr>\n",
              "      <th>4</th>\n",
              "      <td>76665</td>\n",
              "      <td>שערי צדק</td>\n",
              "      <td>NaN</td>\n",
              "      <td>30.0</td>\n",
              "      <td>50.0</td>\n",
              "      <td>40.0000</td>\n",
              "      <td>40.0000</td>\n",
              "      <td>13</td>\n",
              "      <td>nan</td>\n",
              "      <td>2</td>\n",
              "    </tr>\n",
              "    <tr>\n",
              "      <th>...</th>\n",
              "      <td>...</td>\n",
              "      <td>...</td>\n",
              "      <td>...</td>\n",
              "      <td>...</td>\n",
              "      <td>...</td>\n",
              "      <td>...</td>\n",
              "      <td>...</td>\n",
              "      <td>...</td>\n",
              "      <td>...</td>\n",
              "      <td>...</td>\n",
              "    </tr>\n",
              "    <tr>\n",
              "      <th>120</th>\n",
              "      <td>100721</td>\n",
              "      <td>שפרה</td>\n",
              "      <td>2.5</td>\n",
              "      <td>2.2</td>\n",
              "      <td>2.0</td>\n",
              "      <td>0.0000</td>\n",
              "      <td>0.0000</td>\n",
              "      <td>0</td>\n",
              "      <td>0</td>\n",
              "      <td>3</td>\n",
              "    </tr>\n",
              "    <tr>\n",
              "      <th>121</th>\n",
              "      <td>101131</td>\n",
              "      <td>אחר</td>\n",
              "      <td>3.0</td>\n",
              "      <td>14.0</td>\n",
              "      <td>8.0</td>\n",
              "      <td>36.0000</td>\n",
              "      <td>50.0000</td>\n",
              "      <td>7</td>\n",
              "      <td>0</td>\n",
              "      <td>0</td>\n",
              "    </tr>\n",
              "    <tr>\n",
              "      <th>122</th>\n",
              "      <td>101418</td>\n",
              "      <td>שפרה</td>\n",
              "      <td>1.0</td>\n",
              "      <td>37.0</td>\n",
              "      <td>59.0</td>\n",
              "      <td>54.0000</td>\n",
              "      <td>36.0000</td>\n",
              "      <td>3</td>\n",
              "      <td>nan</td>\n",
              "      <td>3</td>\n",
              "    </tr>\n",
              "    <tr>\n",
              "      <th>123</th>\n",
              "      <td>101721</td>\n",
              "      <td>אחר</td>\n",
              "      <td>1.0</td>\n",
              "      <td>19.0</td>\n",
              "      <td>25.0</td>\n",
              "      <td>26.0000</td>\n",
              "      <td>20.0000</td>\n",
              "      <td>2</td>\n",
              "      <td>3</td>\n",
              "      <td>0</td>\n",
              "    </tr>\n",
              "    <tr>\n",
              "      <th>124</th>\n",
              "      <td>101787</td>\n",
              "      <td>אחר</td>\n",
              "      <td>0.2</td>\n",
              "      <td>75.0</td>\n",
              "      <td>240.0</td>\n",
              "      <td>4.0000</td>\n",
              "      <td>47.0000</td>\n",
              "      <td>nan</td>\n",
              "      <td>9</td>\n",
              "      <td>0</td>\n",
              "    </tr>\n",
              "  </tbody>\n",
              "</table>\n",
              "<p>125 rows × 10 columns</p>\n",
              "</div>"
            ],
            "text/plain": [
              "         id  hospital  valume  ...  formation_cup  formation_check  code\n",
              "0     56674       אחר     NaN  ...              0                2     0\n",
              "1     57548      שפרה     1.0  ...              2                4     3\n",
              "2     73934      שפרה     0.5  ...            nan              nan     3\n",
              "3     75504       אחר     1.5  ...             14              nan     0\n",
              "4     76665  שערי צדק     NaN  ...             13              nan     2\n",
              "..      ...       ...     ...  ...            ...              ...   ...\n",
              "120  100721      שפרה     2.5  ...              0                0     3\n",
              "121  101131       אחר     3.0  ...              7                0     0\n",
              "122  101418      שפרה     1.0  ...              3              nan     3\n",
              "123  101721       אחר     1.0  ...              2                3     0\n",
              "124  101787       אחר     0.2  ...            nan                9     0\n",
              "\n",
              "[125 rows x 10 columns]"
            ]
          },
          "metadata": {
            "tags": []
          },
          "execution_count": 45
        }
      ]
    },
    {
      "cell_type": "markdown",
      "metadata": {
        "id": "Rl5mKJMGLHv2"
      },
      "source": [
        "השוואה של תזוזה בבדיקות כוסית ומבחנה"
      ]
    },
    {
      "cell_type": "code",
      "metadata": {
        "id": "n82LlAtL0i5c"
      },
      "source": [
        "# compareMovement_df = df(data=df, columns=[\"movement_cup\", \"movement_check\"])\n",
        "plotDf = pd.DataFrame()\n",
        "plotDf[\"moveCup\"] = df[\"movement_cup\"]\n",
        "plotDf[\"moveCheck\"] = df[\"movement_check\"]"
      ],
      "execution_count": 46,
      "outputs": []
    },
    {
      "cell_type": "code",
      "metadata": {
        "id": "teM8VhH80i5d",
        "colab": {
          "base_uri": "https://localhost:8080/",
          "height": 419
        },
        "outputId": "e616fb32-ed56-4f00-b388-52d317920a14"
      },
      "source": [
        "plotDf"
      ],
      "execution_count": 47,
      "outputs": [
        {
          "output_type": "execute_result",
          "data": {
            "text/html": [
              "<div>\n",
              "<style scoped>\n",
              "    .dataframe tbody tr th:only-of-type {\n",
              "        vertical-align: middle;\n",
              "    }\n",
              "\n",
              "    .dataframe tbody tr th {\n",
              "        vertical-align: top;\n",
              "    }\n",
              "\n",
              "    .dataframe thead th {\n",
              "        text-align: right;\n",
              "    }\n",
              "</style>\n",
              "<table border=\"1\" class=\"dataframe\">\n",
              "  <thead>\n",
              "    <tr style=\"text-align: right;\">\n",
              "      <th></th>\n",
              "      <th>moveCup</th>\n",
              "      <th>moveCheck</th>\n",
              "    </tr>\n",
              "  </thead>\n",
              "  <tbody>\n",
              "    <tr>\n",
              "      <th>0</th>\n",
              "      <td>0.0001</td>\n",
              "      <td>0.0001</td>\n",
              "    </tr>\n",
              "    <tr>\n",
              "      <th>1</th>\n",
              "      <td>25.0000</td>\n",
              "      <td>20.0000</td>\n",
              "    </tr>\n",
              "    <tr>\n",
              "      <th>2</th>\n",
              "      <td>38.0000</td>\n",
              "      <td>20.0000</td>\n",
              "    </tr>\n",
              "    <tr>\n",
              "      <th>3</th>\n",
              "      <td>30.0000</td>\n",
              "      <td>55.0000</td>\n",
              "    </tr>\n",
              "    <tr>\n",
              "      <th>4</th>\n",
              "      <td>40.0000</td>\n",
              "      <td>40.0000</td>\n",
              "    </tr>\n",
              "    <tr>\n",
              "      <th>...</th>\n",
              "      <td>...</td>\n",
              "      <td>...</td>\n",
              "    </tr>\n",
              "    <tr>\n",
              "      <th>120</th>\n",
              "      <td>0.0000</td>\n",
              "      <td>0.0000</td>\n",
              "    </tr>\n",
              "    <tr>\n",
              "      <th>121</th>\n",
              "      <td>36.0000</td>\n",
              "      <td>50.0000</td>\n",
              "    </tr>\n",
              "    <tr>\n",
              "      <th>122</th>\n",
              "      <td>54.0000</td>\n",
              "      <td>36.0000</td>\n",
              "    </tr>\n",
              "    <tr>\n",
              "      <th>123</th>\n",
              "      <td>26.0000</td>\n",
              "      <td>20.0000</td>\n",
              "    </tr>\n",
              "    <tr>\n",
              "      <th>124</th>\n",
              "      <td>4.0000</td>\n",
              "      <td>47.0000</td>\n",
              "    </tr>\n",
              "  </tbody>\n",
              "</table>\n",
              "<p>125 rows × 2 columns</p>\n",
              "</div>"
            ],
            "text/plain": [
              "     moveCup  moveCheck\n",
              "0     0.0001     0.0001\n",
              "1    25.0000    20.0000\n",
              "2    38.0000    20.0000\n",
              "3    30.0000    55.0000\n",
              "4    40.0000    40.0000\n",
              "..       ...        ...\n",
              "120   0.0000     0.0000\n",
              "121  36.0000    50.0000\n",
              "122  54.0000    36.0000\n",
              "123  26.0000    20.0000\n",
              "124   4.0000    47.0000\n",
              "\n",
              "[125 rows x 2 columns]"
            ]
          },
          "metadata": {
            "tags": []
          },
          "execution_count": 47
        }
      ]
    },
    {
      "cell_type": "code",
      "metadata": {
        "id": "jxBKBHGb0i5d",
        "colab": {
          "base_uri": "https://localhost:8080/",
          "height": 333
        },
        "outputId": "bba7136e-6ec5-4e49-a8ec-42337dd2435f"
      },
      "source": [
        "import matplotlib.pyplot as plt\n",
        "for col in [\"moveCheck\",\"moveCup\"]:\n",
        "    plt.hist(plotDf[col], alpha=0.5)"
      ],
      "execution_count": 48,
      "outputs": [
        {
          "output_type": "stream",
          "text": [
            "/usr/local/lib/python3.6/dist-packages/numpy/lib/histograms.py:839: RuntimeWarning: invalid value encountered in greater_equal\n",
            "  keep = (tmp_a >= first_edge)\n",
            "/usr/local/lib/python3.6/dist-packages/numpy/lib/histograms.py:840: RuntimeWarning: invalid value encountered in less_equal\n",
            "  keep &= (tmp_a <= last_edge)\n"
          ],
          "name": "stderr"
        },
        {
          "output_type": "display_data",
          "data": {
            "image/png": "[encoded data removed]",
            "text/plain": [
              "<Figure size 432x288 with 1 Axes>"
            ]
          },
          "metadata": {
            "tags": [],
            "needs_background": "light"
          }
        }
      ]
    },
    {
      "cell_type": "markdown",
      "metadata": {
        "id": "8G9mYwwILck5"
      },
      "source": [
        "השוואה של קורלציה לפי בית חולים"
      ]
    },
    {
      "cell_type": "code",
      "metadata": {
        "id": "OzBPsn2Z0i5d",
        "colab": {
          "base_uri": "https://localhost:8080/"
        },
        "outputId": "9e7af049-d8cb-44d4-d249-26a9ed062869"
      },
      "source": [
        "print(len(df.groupby(['code']).groups))"
      ],
      "execution_count": 49,
      "outputs": [
        {
          "output_type": "stream",
          "text": [
            "4\n"
          ],
          "name": "stdout"
        }
      ]
    },
    {
      "cell_type": "code",
      "metadata": {
        "id": "KvuJMOP80i5d",
        "colab": {
          "base_uri": "https://localhost:8080/",
          "height": 350
        },
        "outputId": "05b714ef-139d-4e7e-f496-89819b36054c"
      },
      "source": [
        "move_list = []\n",
        "consert_list = []\n",
        "formation_list = []\n",
        "group_names = df.hospital.unique()\n",
        "for i, name in enumerate(group_names):\n",
        "# for i in range(len(df.groupby(['hospital']))):\n",
        "    hospital = df.groupby(['hospital']).get_group(name)\n",
        "    print(\"number \", i, \"is \", name)\n",
        "# for i in range(len(df.groupby(['code']).groups)):\n",
        "    # hospital_acher = df.groupby(['code']).get_group(i)\n",
        "    corr_movement = hospital[\"movement_cup\"].corr(hospital[\"movement_check\"])\n",
        "    corr_consertrat = hospital[\"con_cup\"].corr(hospital[\"con_check\"])\n",
        "    corr_formation = hospital[\"formation_cup\"].astype('float').corr(hospital[\"formation_check\"].astype('float'))\n",
        "    move_list.append(corr_movement)\n",
        "    consert_list.append(corr_consertrat)\n",
        "    formation_list.append(corr_formation)\n",
        "corr_df = pd.DataFrame()\n",
        "corr_df[\"corr_movement\"] = move_list\n",
        "corr_df[\"corr_consertrat\"] = consert_list\n",
        "corr_df[\"corr_formation\"] = formation_list\n",
        "corr_df.plot()"
      ],
      "execution_count": 50,
      "outputs": [
        {
          "output_type": "stream",
          "text": [
            "number  0 is  אחר\n",
            "number  1 is  שפרה\n",
            "number  2 is  שערי צדק\n",
            "number  3 is  ביקור חולים\n"
          ],
          "name": "stdout"
        },
        {
          "output_type": "execute_result",
          "data": {
            "text/plain": [
              "<matplotlib.axes._subplots.AxesSubplot at 0x7f98e4938ef0>"
            ]
          },
          "metadata": {
            "tags": []
          },
          "execution_count": 50
        },
        {
          "output_type": "display_data",
          "data": {
            "image/png": "[encoded data removed]",
            "text/plain": [
              "<Figure size 432x288 with 1 Axes>"
            ]
          },
          "metadata": {
            "tags": [],
            "needs_background": "light"
          }
        }
      ]
    },
    {
      "cell_type": "markdown",
      "metadata": {
        "id": "Kl0veovPRoxa"
      },
      "source": [
        "רואים שבבית החולים ביקור חולים יש הבדל גדול בקורלציה בין התזוזה לבין מבנה וריכוז"
      ]
    },
    {
      "cell_type": "markdown",
      "metadata": {
        "id": "pBfz9el6SXDe"
      },
      "source": [
        "קורלציה לפי בית חולים"
      ]
    },
    {
      "cell_type": "code",
      "metadata": {
        "colab": {
          "base_uri": "https://localhost:8080/",
          "height": 1000
        },
        "id": "-zUxiUMi0i5d",
        "outputId": "a76d75fb-b735-4d62-e660-b83fdee7af0d"
      },
      "source": [
        "group_names = df.hospital.unique()\n",
        "for name in group_names:\n",
        "# for i in range(len(df.groupby(['hospital']))):\n",
        "  hospital_number = df.groupby(['hospital']).get_group(name)\n",
        "  corr_movement = hospital_number[\"movement_cup\"].corr(hospital_number[\"movement_check\"])\n",
        "  corr_consertrat = hospital_number[\"con_cup\"].corr(hospital_number[\"con_check\"])\n",
        "  corr_formation = hospital_number[\"formation_cup\"].astype('float').corr(hospital_number[\"formation_check\"].astype('float'))\n",
        "  corr_df = pd.DataFrame()\n",
        "  corr_df[\"corr_movement\"] = [corr_movement]\n",
        "  corr_df[\"corr_consertrat\"] = [corr_consertrat]\n",
        "  corr_df[\"corr_formation\"] = [corr_formation]\n",
        "  plt = corr_df.plot(kind=\"bar\", title = name)\n",
        "  plt.set_xlabel(\"x label\")\n",
        "  plt.set_ylabel(\"y label\")\n"
      ],
      "execution_count": 51,
      "outputs": [
        {
          "output_type": "display_data",
          "data": {
            "image/png": "[encoded data removed]",
            "text/plain": [
              "<Figure size 432x288 with 1 Axes>"
            ]
          },
          "metadata": {
            "tags": [],
            "needs_background": "light"
          }
        },
        {
          "output_type": "display_data",
          "data": {
            "image/png": "[encoded data removed]",
            "text/plain": [
              "<Figure size 432x288 with 1 Axes>"
            ]
          },
          "metadata": {
            "tags": [],
            "needs_background": "light"
          }
        },
        {
          "output_type": "display_data",
          "data": {
            "image/png": "[encoded data removed]",
            "text/plain": [
              "<Figure size 432x288 with 1 Axes>"
            ]
          },
          "metadata": {
            "tags": [],
            "needs_background": "light"
          }
        },
        {
          "output_type": "display_data",
          "data": {
            "image/png": "[encoded data removed]",
            "text/plain": [
              "<Figure size 432x288 with 1 Axes>"
            ]
          },
          "metadata": {
            "tags": [],
            "needs_background": "light"
          }
        }
      ]
    },
    {
      "cell_type": "code",
      "metadata": {
        "id": "udPRxJm72oyO",
        "colab": {
          "base_uri": "https://localhost:8080/",
          "height": 419
        },
        "outputId": "7f4b0369-3a76-41dc-d137-56f6e50d71af"
      },
      "source": [
        "# df.replace(to_replace='טיפה', value=0)\r\n",
        "df['valume'] = df['valume'].astype(float)\r\n",
        "df[df.valume > 0.5]"
      ],
      "execution_count": 52,
      "outputs": [
        {
          "output_type": "execute_result",
          "data": {
            "text/html": [
              "<div>\n",
              "<style scoped>\n",
              "    .dataframe tbody tr th:only-of-type {\n",
              "        vertical-align: middle;\n",
              "    }\n",
              "\n",
              "    .dataframe tbody tr th {\n",
              "        vertical-align: top;\n",
              "    }\n",
              "\n",
              "    .dataframe thead th {\n",
              "        text-align: right;\n",
              "    }\n",
              "</style>\n",
              "<table border=\"1\" class=\"dataframe\">\n",
              "  <thead>\n",
              "    <tr style=\"text-align: right;\">\n",
              "      <th></th>\n",
              "      <th>id</th>\n",
              "      <th>hospital</th>\n",
              "      <th>valume</th>\n",
              "      <th>con_cup</th>\n",
              "      <th>con_check</th>\n",
              "      <th>movement_cup</th>\n",
              "      <th>movement_check</th>\n",
              "      <th>formation_cup</th>\n",
              "      <th>formation_check</th>\n",
              "      <th>code</th>\n",
              "    </tr>\n",
              "  </thead>\n",
              "  <tbody>\n",
              "    <tr>\n",
              "      <th>1</th>\n",
              "      <td>57548</td>\n",
              "      <td>שפרה</td>\n",
              "      <td>1.0</td>\n",
              "      <td>12.0</td>\n",
              "      <td>30.0</td>\n",
              "      <td>25.0</td>\n",
              "      <td>20.0</td>\n",
              "      <td>2</td>\n",
              "      <td>4</td>\n",
              "      <td>3</td>\n",
              "    </tr>\n",
              "    <tr>\n",
              "      <th>3</th>\n",
              "      <td>75504</td>\n",
              "      <td>אחר</td>\n",
              "      <td>1.5</td>\n",
              "      <td>75.0</td>\n",
              "      <td>33.0</td>\n",
              "      <td>30.0</td>\n",
              "      <td>55.0</td>\n",
              "      <td>14</td>\n",
              "      <td>nan</td>\n",
              "      <td>0</td>\n",
              "    </tr>\n",
              "    <tr>\n",
              "      <th>5</th>\n",
              "      <td>76861</td>\n",
              "      <td>אחר</td>\n",
              "      <td>1.3</td>\n",
              "      <td>6.0</td>\n",
              "      <td>3.0</td>\n",
              "      <td>7.0</td>\n",
              "      <td>6.0</td>\n",
              "      <td>0</td>\n",
              "      <td>1</td>\n",
              "      <td>0</td>\n",
              "    </tr>\n",
              "    <tr>\n",
              "      <th>7</th>\n",
              "      <td>77070</td>\n",
              "      <td>שפרה</td>\n",
              "      <td>3.6</td>\n",
              "      <td>0.9</td>\n",
              "      <td>3.6</td>\n",
              "      <td>44.0</td>\n",
              "      <td>19.0</td>\n",
              "      <td>0</td>\n",
              "      <td>0</td>\n",
              "      <td>3</td>\n",
              "    </tr>\n",
              "    <tr>\n",
              "      <th>11</th>\n",
              "      <td>77373</td>\n",
              "      <td>שערי צדק</td>\n",
              "      <td>3.5</td>\n",
              "      <td>47.0</td>\n",
              "      <td>65.0</td>\n",
              "      <td>2.0</td>\n",
              "      <td>12.0</td>\n",
              "      <td>4</td>\n",
              "      <td>5</td>\n",
              "      <td>2</td>\n",
              "    </tr>\n",
              "    <tr>\n",
              "      <th>...</th>\n",
              "      <td>...</td>\n",
              "      <td>...</td>\n",
              "      <td>...</td>\n",
              "      <td>...</td>\n",
              "      <td>...</td>\n",
              "      <td>...</td>\n",
              "      <td>...</td>\n",
              "      <td>...</td>\n",
              "      <td>...</td>\n",
              "      <td>...</td>\n",
              "    </tr>\n",
              "    <tr>\n",
              "      <th>119</th>\n",
              "      <td>99842</td>\n",
              "      <td>שפרה</td>\n",
              "      <td>3.5</td>\n",
              "      <td>3.6</td>\n",
              "      <td>24.0</td>\n",
              "      <td>17.0</td>\n",
              "      <td>42.0</td>\n",
              "      <td>3</td>\n",
              "      <td>7</td>\n",
              "      <td>3</td>\n",
              "    </tr>\n",
              "    <tr>\n",
              "      <th>120</th>\n",
              "      <td>100721</td>\n",
              "      <td>שפרה</td>\n",
              "      <td>2.5</td>\n",
              "      <td>2.2</td>\n",
              "      <td>2.0</td>\n",
              "      <td>0.0</td>\n",
              "      <td>0.0</td>\n",
              "      <td>0</td>\n",
              "      <td>0</td>\n",
              "      <td>3</td>\n",
              "    </tr>\n",
              "    <tr>\n",
              "      <th>121</th>\n",
              "      <td>101131</td>\n",
              "      <td>אחר</td>\n",
              "      <td>3.0</td>\n",
              "      <td>14.0</td>\n",
              "      <td>8.0</td>\n",
              "      <td>36.0</td>\n",
              "      <td>50.0</td>\n",
              "      <td>7</td>\n",
              "      <td>0</td>\n",
              "      <td>0</td>\n",
              "    </tr>\n",
              "    <tr>\n",
              "      <th>122</th>\n",
              "      <td>101418</td>\n",
              "      <td>שפרה</td>\n",
              "      <td>1.0</td>\n",
              "      <td>37.0</td>\n",
              "      <td>59.0</td>\n",
              "      <td>54.0</td>\n",
              "      <td>36.0</td>\n",
              "      <td>3</td>\n",
              "      <td>nan</td>\n",
              "      <td>3</td>\n",
              "    </tr>\n",
              "    <tr>\n",
              "      <th>123</th>\n",
              "      <td>101721</td>\n",
              "      <td>אחר</td>\n",
              "      <td>1.0</td>\n",
              "      <td>19.0</td>\n",
              "      <td>25.0</td>\n",
              "      <td>26.0</td>\n",
              "      <td>20.0</td>\n",
              "      <td>2</td>\n",
              "      <td>3</td>\n",
              "      <td>0</td>\n",
              "    </tr>\n",
              "  </tbody>\n",
              "</table>\n",
              "<p>83 rows × 10 columns</p>\n",
              "</div>"
            ],
            "text/plain": [
              "         id  hospital  valume  ...  formation_cup  formation_check  code\n",
              "1     57548      שפרה     1.0  ...              2                4     3\n",
              "3     75504       אחר     1.5  ...             14              nan     0\n",
              "5     76861       אחר     1.3  ...              0                1     0\n",
              "7     77070      שפרה     3.6  ...              0                0     3\n",
              "11    77373  שערי צדק     3.5  ...              4                5     2\n",
              "..      ...       ...     ...  ...            ...              ...   ...\n",
              "119   99842      שפרה     3.5  ...              3                7     3\n",
              "120  100721      שפרה     2.5  ...              0                0     3\n",
              "121  101131       אחר     3.0  ...              7                0     0\n",
              "122  101418      שפרה     1.0  ...              3              nan     3\n",
              "123  101721       אחר     1.0  ...              2                3     0\n",
              "\n",
              "[83 rows x 10 columns]"
            ]
          },
          "metadata": {
            "tags": []
          },
          "execution_count": 52
        }
      ]
    },
    {
      "cell_type": "code",
      "metadata": {
        "id": "9s6tuMivXcwo"
      },
      "source": [
        ""
      ],
      "execution_count": 52,
      "outputs": []
    }
  ]
}