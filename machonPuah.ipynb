{
  "nbformat": 4,
  "nbformat_minor": 0,
  "metadata": {
    "kernelspec": {
      "display_name": "Python 3",
      "language": "python",
      "name": "python3"
    },
    "language_info": {
      "codemirror_mode": {
        "name": "ipython",
        "version": 3
      },
      "file_extension": ".py",
      "mimetype": "text/x-python",
      "name": "python",
      "nbconvert_exporter": "python",
      "pygments_lexer": "ipython3",
      "version": "3.8.0"
    },
    "colab": {
      "name": "Untitled.ipynb",
      "provenance": []
    }
  },
  "cells": [
    {
      "cell_type": "markdown",
      "metadata": {
        "id": "sJJIDeAF0i5b"
      },
      "source": [
        "שאלות המחקר המבוקשות הן:\n",
        "1. מהי רמת הקורלציה בין ריכוז בבדיקות השונות, תנועה בבדיקות השונות, מבנה בבדיקות השונות.\n",
        "2. האם ניתן להגיע לנוסחה מסוימת ולפיה ככלל סטיית התקן שבין שתי הבדיקות דומה פחות או יותר.\n",
        "3. האם יש קשר בין מקום ביצוע בדיקת הכוסית לבין הקורלציה בנתונים השונים של הבדיקות (דהיינו האם עדיף לשלוח למקום שבו עושים הרבה בדיקות כוסית כי אז הן יהיו יותר מדויקות או שאין משמעות).\n",
        "4. האם דגימה של כוסית בנפח גבוה יותר (מעל 0.5 מ\"ל או מעל 1 מ\"ל) נותנת נתונים אמינים יותר?"
      ]
    },
    {
      "cell_type": "code",
      "metadata": {
        "id": "8a4UdvDn0i5b"
      },
      "source": [
        "import xlrd\n",
        "import pandas as pd\n",
        "import seaborn as sns\n",
        "\n",
        "# df = pd.read_excel(\"check.xls\", na_values=['לא ידוע', 'אין'])\n",
        "df = pd.ExcelFile(\"https://github.com/aviadm24/jupyter/blob/master/check.xls?raw=true\")\n",
        "df = pd.read_excel(df, na_values=['לא ידוע', 'טיפה']) #  , 'אין'\n",
        "df.columns = [\"id\", \"hospital\", \"valume\", \"con_cup\", \"con_check\", \"movement_cup\", \"movement_check\", \"formation_cup\", \"formation_check\"]\n",
        "df.hospital = pd.Categorical(df.hospital)\n",
        "df['code'] = df.hospital.cat.codes\n",
        "df['formation_cup'] = df['formation_cup'].map(lambda x: str(x).lstrip('WHO').rstrip('WHO'))\n",
        "df['formation_check'] = df['formation_check'].map(lambda x: str(x).lstrip('WHO').rstrip('WHO'))"
      ],
      "execution_count": 204,
      "outputs": []
    },
    {
      "cell_type": "code",
      "metadata": {
        "id": "KRJFEANem9DP",
        "colab": {
          "base_uri": "https://localhost:8080/",
          "height": 419
        },
        "outputId": "600d1cd8-f304-48e5-fe65-403ba5af9d3c"
      },
      "source": [
        "df.drop(\"hospital\", axis=1)"
      ],
      "execution_count": 205,
      "outputs": [
        {
          "output_type": "execute_result",
          "data": {
            "text/html": [
              "<div>\n",
              "<style scoped>\n",
              "    .dataframe tbody tr th:only-of-type {\n",
              "        vertical-align: middle;\n",
              "    }\n",
              "\n",
              "    .dataframe tbody tr th {\n",
              "        vertical-align: top;\n",
              "    }\n",
              "\n",
              "    .dataframe thead th {\n",
              "        text-align: right;\n",
              "    }\n",
              "</style>\n",
              "<table border=\"1\" class=\"dataframe\">\n",
              "  <thead>\n",
              "    <tr style=\"text-align: right;\">\n",
              "      <th></th>\n",
              "      <th>id</th>\n",
              "      <th>valume</th>\n",
              "      <th>con_cup</th>\n",
              "      <th>con_check</th>\n",
              "      <th>movement_cup</th>\n",
              "      <th>movement_check</th>\n",
              "      <th>formation_cup</th>\n",
              "      <th>formation_check</th>\n",
              "      <th>code</th>\n",
              "    </tr>\n",
              "  </thead>\n",
              "  <tbody>\n",
              "    <tr>\n",
              "      <th>0</th>\n",
              "      <td>56674</td>\n",
              "      <td>NaN</td>\n",
              "      <td>0.2</td>\n",
              "      <td>2.0</td>\n",
              "      <td>0.0001</td>\n",
              "      <td>0.0001</td>\n",
              "      <td>0</td>\n",
              "      <td>2</td>\n",
              "      <td>0</td>\n",
              "    </tr>\n",
              "    <tr>\n",
              "      <th>1</th>\n",
              "      <td>57548</td>\n",
              "      <td>1.0</td>\n",
              "      <td>12.0</td>\n",
              "      <td>30.0</td>\n",
              "      <td>25</td>\n",
              "      <td>20</td>\n",
              "      <td>2</td>\n",
              "      <td>4</td>\n",
              "      <td>3</td>\n",
              "    </tr>\n",
              "    <tr>\n",
              "      <th>2</th>\n",
              "      <td>73934</td>\n",
              "      <td>0.5</td>\n",
              "      <td>0.8</td>\n",
              "      <td>0.5</td>\n",
              "      <td>38</td>\n",
              "      <td>20</td>\n",
              "      <td>אין</td>\n",
              "      <td>אין</td>\n",
              "      <td>3</td>\n",
              "    </tr>\n",
              "    <tr>\n",
              "      <th>3</th>\n",
              "      <td>75504</td>\n",
              "      <td>1.5</td>\n",
              "      <td>75.0</td>\n",
              "      <td>33.0</td>\n",
              "      <td>30</td>\n",
              "      <td>55</td>\n",
              "      <td>14</td>\n",
              "      <td>אין</td>\n",
              "      <td>0</td>\n",
              "    </tr>\n",
              "    <tr>\n",
              "      <th>4</th>\n",
              "      <td>76665</td>\n",
              "      <td>NaN</td>\n",
              "      <td>30.0</td>\n",
              "      <td>50.0</td>\n",
              "      <td>40</td>\n",
              "      <td>40</td>\n",
              "      <td>13</td>\n",
              "      <td>אין</td>\n",
              "      <td>2</td>\n",
              "    </tr>\n",
              "    <tr>\n",
              "      <th>...</th>\n",
              "      <td>...</td>\n",
              "      <td>...</td>\n",
              "      <td>...</td>\n",
              "      <td>...</td>\n",
              "      <td>...</td>\n",
              "      <td>...</td>\n",
              "      <td>...</td>\n",
              "      <td>...</td>\n",
              "      <td>...</td>\n",
              "    </tr>\n",
              "    <tr>\n",
              "      <th>120</th>\n",
              "      <td>100721</td>\n",
              "      <td>2.5</td>\n",
              "      <td>2.2</td>\n",
              "      <td>2.0</td>\n",
              "      <td>0</td>\n",
              "      <td>0</td>\n",
              "      <td>0</td>\n",
              "      <td>0</td>\n",
              "      <td>3</td>\n",
              "    </tr>\n",
              "    <tr>\n",
              "      <th>121</th>\n",
              "      <td>101131</td>\n",
              "      <td>3.0</td>\n",
              "      <td>14.0</td>\n",
              "      <td>8.0</td>\n",
              "      <td>36</td>\n",
              "      <td>50</td>\n",
              "      <td>7</td>\n",
              "      <td>0</td>\n",
              "      <td>0</td>\n",
              "    </tr>\n",
              "    <tr>\n",
              "      <th>122</th>\n",
              "      <td>101418</td>\n",
              "      <td>1.0</td>\n",
              "      <td>37.0</td>\n",
              "      <td>59.0</td>\n",
              "      <td>54</td>\n",
              "      <td>36</td>\n",
              "      <td>3</td>\n",
              "      <td>אין</td>\n",
              "      <td>3</td>\n",
              "    </tr>\n",
              "    <tr>\n",
              "      <th>123</th>\n",
              "      <td>101721</td>\n",
              "      <td>1.0</td>\n",
              "      <td>19.0</td>\n",
              "      <td>25.0</td>\n",
              "      <td>26</td>\n",
              "      <td>20</td>\n",
              "      <td>2</td>\n",
              "      <td>3</td>\n",
              "      <td>0</td>\n",
              "    </tr>\n",
              "    <tr>\n",
              "      <th>124</th>\n",
              "      <td>101787</td>\n",
              "      <td>0.2</td>\n",
              "      <td>75.0</td>\n",
              "      <td>240.0</td>\n",
              "      <td>4</td>\n",
              "      <td>47</td>\n",
              "      <td>אין</td>\n",
              "      <td>9</td>\n",
              "      <td>0</td>\n",
              "    </tr>\n",
              "  </tbody>\n",
              "</table>\n",
              "<p>125 rows × 9 columns</p>\n",
              "</div>"
            ],
            "text/plain": [
              "         id  valume  con_cup  ...  formation_cup formation_check code\n",
              "0     56674     NaN      0.2  ...              0               2    0\n",
              "1     57548     1.0     12.0  ...              2               4    3\n",
              "2     73934     0.5      0.8  ...            אין             אין    3\n",
              "3     75504     1.5     75.0  ...             14             אין    0\n",
              "4     76665     NaN     30.0  ...             13             אין    2\n",
              "..      ...     ...      ...  ...            ...             ...  ...\n",
              "120  100721     2.5      2.2  ...              0               0    3\n",
              "121  101131     3.0     14.0  ...              7               0    0\n",
              "122  101418     1.0     37.0  ...              3             אין    3\n",
              "123  101721     1.0     19.0  ...              2               3    0\n",
              "124  101787     0.2     75.0  ...            אין               9    0\n",
              "\n",
              "[125 rows x 9 columns]"
            ]
          },
          "metadata": {
            "tags": []
          },
          "execution_count": 205
        }
      ]
    },
    {
      "cell_type": "markdown",
      "metadata": {
        "id": "DGmT2Vb79Mx_"
      },
      "source": [
        "ניקוי הדטה כדי שנוכל לעבד אותו"
      ]
    },
    {
      "cell_type": "code",
      "metadata": {
        "colab": {
          "base_uri": "https://localhost:8080/"
        },
        "id": "NDw_-AMc0i5c",
        "outputId": "0a27a9d1-4a32-497c-9240-936ffdb4c372"
      },
      "source": [
        "import numpy as np\n",
        "import numpy.ma as ma\n",
        "\n",
        "for index,i in enumerate(df['formation_check']):\n",
        "    if isinstance(i, str):\n",
        "        try:\n",
        "            df['formation_check'][index] = int(i)\n",
        "        except:\n",
        "            pass"
      ],
      "execution_count": 206,
      "outputs": [
        {
          "output_type": "stream",
          "text": [
            "/usr/local/lib/python3.6/dist-packages/ipykernel_launcher.py:7: SettingWithCopyWarning: \n",
            "A value is trying to be set on a copy of a slice from a DataFrame\n",
            "\n",
            "See the caveats in the documentation: https://pandas.pydata.org/pandas-docs/stable/user_guide/indexing.html#returning-a-view-versus-a-copy\n",
            "  import sys\n"
          ],
          "name": "stderr"
        }
      ]
    },
    {
      "cell_type": "markdown",
      "metadata": {
        "id": "bz_LDIUPZKTs"
      },
      "source": [
        "מכיוון שיש בבדיקות מבנה ותזוזה שורות שבהן לא נעשה בדיקה אחת מתוך השניים לא מתייחסים לשורה זו"
      ]
    },
    {
      "cell_type": "code",
      "metadata": {
        "colab": {
          "base_uri": "https://localhost:8080/"
        },
        "id": "5xW0MyXMc08Z",
        "outputId": "61a775aa-a5e2-42e4-a999-439e1b1ebd37"
      },
      "source": [
        "formationDf = pd.DataFrame()\n",
        "formationDf[\"formation_cup\"] = df[\"formation_cup\"]\n",
        "formationDf[\"formation_check\"] = df[\"formation_check\"]\n",
        "print(\"row count: \", formationDf.shape[0])\n",
        "formationDf = formationDf[df.formation_cup != 'אין']\n",
        "print(\"row count: \", formationDf.shape[0])\n",
        "formationDf = formationDf[df.formation_check != 'אין']\n",
        "print(\"row count: \", formationDf.shape[0])\n",
        "formationDf[\"formation_cup\"] = formationDf[\"formation_cup\"].astype(\"float\")\n",
        "formationDf[\"formation_check\"] = formationDf[\"formation_check\"].astype(\"float\")\n",
        "print(formationDf)"
      ],
      "execution_count": 207,
      "outputs": [
        {
          "output_type": "stream",
          "text": [
            "row count:  125\n",
            "row count:  93\n",
            "row count:  69\n",
            "     formation_cup  formation_check\n",
            "0              0.0              2.0\n",
            "1              2.0              4.0\n",
            "5              0.0              1.0\n",
            "7              0.0              0.0\n",
            "9              3.0              3.0\n",
            "..             ...              ...\n",
            "118            2.0              1.0\n",
            "119            3.0              7.0\n",
            "120            0.0              0.0\n",
            "121            7.0              0.0\n",
            "123            2.0              3.0\n",
            "\n",
            "[69 rows x 2 columns]\n"
          ],
          "name": "stdout"
        },
        {
          "output_type": "stream",
          "text": [
            "/usr/local/lib/python3.6/dist-packages/ipykernel_launcher.py:7: UserWarning: Boolean Series key will be reindexed to match DataFrame index.\n",
            "  import sys\n"
          ],
          "name": "stderr"
        }
      ]
    },
    {
      "cell_type": "code",
      "metadata": {
        "colab": {
          "base_uri": "https://localhost:8080/"
        },
        "id": "OmeD-bKhMu7Y",
        "outputId": "8c12a194-d567-49d2-9d16-7bd0d426aaea"
      },
      "source": [
        "movementDf = pd.DataFrame()\n",
        "movementDf[\"movement_cup\"] = df[\"movement_cup\"]\n",
        "movementDf[\"movement_check\"] = df[\"movement_check\"]\n",
        "print(\"row count: \", movementDf.shape[0])\n",
        "movementDf = movementDf[df.movement_cup != 'אין']\n",
        "print(\"row count: \", movementDf.shape[0])\n",
        "movementDf = movementDf[df.movement_check != 'אין']\n",
        "print(\"row count: \", movementDf.shape[0])\n",
        "movementDf[\"movement_cup\"] = movementDf[\"movement_cup\"].astype(\"float\")\n",
        "movementDf[\"movement_check\"] = movementDf[\"movement_check\"].astype(\"float\")\n",
        "print(movementDf)"
      ],
      "execution_count": 208,
      "outputs": [
        {
          "output_type": "stream",
          "text": [
            "row count:  125\n",
            "row count:  121\n",
            "row count:  121\n",
            "     movement_cup  movement_check\n",
            "0          0.0001          0.0001\n",
            "1         25.0000         20.0000\n",
            "2         38.0000         20.0000\n",
            "3         30.0000         55.0000\n",
            "4         40.0000         40.0000\n",
            "..            ...             ...\n",
            "120        0.0000          0.0000\n",
            "121       36.0000         50.0000\n",
            "122       54.0000         36.0000\n",
            "123       26.0000         20.0000\n",
            "124        4.0000         47.0000\n",
            "\n",
            "[121 rows x 2 columns]\n"
          ],
          "name": "stdout"
        },
        {
          "output_type": "stream",
          "text": [
            "/usr/local/lib/python3.6/dist-packages/ipykernel_launcher.py:7: UserWarning: Boolean Series key will be reindexed to match DataFrame index.\n",
            "  import sys\n"
          ],
          "name": "stderr"
        }
      ]
    },
    {
      "cell_type": "markdown",
      "metadata": {
        "id": "0J2zZfxq9KT0"
      },
      "source": [
        "חישוב קורלציה בין ריכוז בבדיקות השונות, תנועה בבדיקות השונות, מבנה בבדיקות השונות - בכלל בתי החולים"
      ]
    },
    {
      "cell_type": "code",
      "metadata": {
        "id": "EUiumZ7EpKvH",
        "colab": {
          "base_uri": "https://localhost:8080/",
          "height": 869
        },
        "outputId": "d5d33493-b980-4f58-933b-e74bd53f9763"
      },
      "source": [
        "import scipy.stats\n",
        "import matplotlib.pyplot as plt\n",
        "plt.style.use('ggplot')\n",
        "def regresion(df, colOne, colTwo, title):\n",
        "  x = df[colOne].fillna(0)\n",
        "  y = df[colTwo].fillna(0)\n",
        "  slope, intercept, r, p, stderr = scipy.stats.linregress(x, y)\n",
        "  print(\"standard error: \", stderr)\n",
        "  line = f'Regression line: y={intercept:.2f}+{slope:.2f}x, r={r:.2f}'\n",
        "  fig, ax = plt.subplots()\n",
        "  ax.plot(x, y, linewidth=0, marker='s', label='Data points') #, title=title\n",
        "  ax.plot(x, intercept + slope * x, label=line)\n",
        "  ax.set_xlabel('x')\n",
        "  ax.set_ylabel('y')\n",
        "  ax.legend(facecolor='white')\n",
        "  plt.show()\n",
        "regresion(movementDf, \"movement_cup\", \"movement_check\", 'regresion movement')\n",
        "regresion(formationDf, \"formation_cup\", \"formation_check\", 'regresion formation')\n",
        "regresion(df, \"con_cup\", \"con_check\", 'regresion consertrat')"
      ],
      "execution_count": 209,
      "outputs": [
        {
          "output_type": "stream",
          "text": [
            "standard error:  0.08349603139077025\n"
          ],
          "name": "stdout"
        },
        {
          "output_type": "display_data",
          "data": {
            "image/png": "[encoded data removed]",
            "text/plain": [
              "<Figure size 432x288 with 1 Axes>"
            ]
          },
          "metadata": {
            "tags": []
          }
        },
        {
          "output_type": "stream",
          "text": [
            "standard error:  0.10447446075622482\n"
          ],
          "name": "stdout"
        },
        {
          "output_type": "display_data",
          "data": {
            "image/png": "[encoded data removed]",
            "text/plain": [
              "<Figure size 432x288 with 1 Axes>"
            ]
          },
          "metadata": {
            "tags": []
          }
        },
        {
          "output_type": "stream",
          "text": [
            "standard error:  0.09728514361120547\n"
          ],
          "name": "stdout"
        },
        {
          "output_type": "display_data",
          "data": {
            "image/png": "[encoded data removed]",
            "text/plain": [
              "<Figure size 432x288 with 1 Axes>"
            ]
          },
          "metadata": {
            "tags": []
          }
        }
      ]
    },
    {
      "cell_type": "code",
      "metadata": {
        "id": "2j6mM31I0i5c"
      },
      "source": [
        "corr_movement = movementDf[\"movement_cup\"].corr(movementDf[\"movement_check\"])\n",
        "corr_consertrat = df[\"con_cup\"].corr(df[\"con_check\"])\n",
        "corr_formation = formationDf[\"formation_cup\"].corr(formationDf[\"formation_check\"])\n"
      ],
      "execution_count": 210,
      "outputs": []
    },
    {
      "cell_type": "code",
      "metadata": {
        "id": "yUlDwzSx0i5c",
        "colab": {
          "base_uri": "https://localhost:8080/",
          "height": 368
        },
        "outputId": "660c19c7-035e-4126-e31e-9e27ef67947a"
      },
      "source": [
        "corrDf = pd.DataFrame()\n",
        "corrDf[\"movement\"] = [corr_movement]\n",
        "corrDf[\"consertrat\"] = [corr_consertrat]\n",
        "corrDf[\"formation\"] = [corr_formation]\n",
        "print(\"corr_movement: \", corr_movement)\n",
        "print(\"corr_consertrat: \", corr_consertrat)\n",
        "print(\"corr_formation: \", corr_formation)\n",
        "plt = corrDf.plot(kind='bar', title = \"CORRALATION IN ALL TESTS\")\n",
        "plt.set_xlabel(\"checkup types\")\n",
        "plt.set_ylabel(\"corralation\")  "
      ],
      "execution_count": 211,
      "outputs": [
        {
          "output_type": "stream",
          "text": [
            "corr_movement:  0.6318152917636762\n",
            "corr_consertrat:  0.7138309800573162\n",
            "corr_formation:  0.6590311986439481\n"
          ],
          "name": "stdout"
        },
        {
          "output_type": "execute_result",
          "data": {
            "text/plain": [
              "Text(0, 0.5, 'corralation')"
            ]
          },
          "metadata": {
            "tags": []
          },
          "execution_count": 211
        },
        {
          "output_type": "display_data",
          "data": {
            "image/png": "[encoded data removed]",
            "text/plain": [
              "<Figure size 432x288 with 1 Axes>"
            ]
          },
          "metadata": {
            "tags": []
          }
        }
      ]
    },
    {
      "cell_type": "markdown",
      "metadata": {
        "id": "Rl5mKJMGLHv2"
      },
      "source": [
        "השוואה של תזוזה בבדיקות כוסית ומבחנה"
      ]
    },
    {
      "cell_type": "code",
      "metadata": {
        "id": "n82LlAtL0i5c"
      },
      "source": [
        "# plotDf = pd.DataFrame()\n",
        "# plotDf[\"moveCup\"] = df[\"movement_cup\"]\n",
        "# plotDf[\"moveCheck\"] = df[\"movement_check\"]"
      ],
      "execution_count": 212,
      "outputs": []
    },
    {
      "cell_type": "code",
      "metadata": {
        "id": "jxBKBHGb0i5d",
        "colab": {
          "base_uri": "https://localhost:8080/",
          "height": 329
        },
        "outputId": "61da6dd4-4a44-4f63-d568-9352df9f1372"
      },
      "source": [
        "import matplotlib.pyplot as plt\n",
        "title = ''\n",
        "for col in [\"movement_check\",\"movement_cup\"]:\n",
        "    plt.hist(movementDf[col], alpha=0.5, label=col)\n",
        "    title+=col + ' '\n",
        "plt.suptitle(title, fontsize=20)\n",
        "plt.legend(loc=\"upper right\")\n",
        "plt.xlabel(\"results\")\n",
        "plt.ylabel(\"number of tests made\")  "
      ],
      "execution_count": 213,
      "outputs": [
        {
          "output_type": "execute_result",
          "data": {
            "text/plain": [
              "Text(0, 0.5, 'number of tests made')"
            ]
          },
          "metadata": {
            "tags": []
          },
          "execution_count": 213
        },
        {
          "output_type": "display_data",
          "data": {
            "image/png": "[encoded data removed]",
            "text/plain": [
              "<Figure size 432x288 with 1 Axes>"
            ]
          },
          "metadata": {
            "tags": []
          }
        }
      ]
    },
    {
      "cell_type": "code",
      "metadata": {
        "id": "Jqo_mFKJeOww"
      },
      "source": [
        "# title = ''\r\n",
        "# plotDf = df[[\"formation_check\",\"formation_cup\"]].copy()\r\n",
        "# plotDf[\"formation_check\"] = plotDf[\"formation_check\"].astype(float)\r\n",
        "# plotDf[\"formation_cup\"] = plotDf[\"formation_cup\"].astype(float)\r\n",
        "# print(plotDf)\r\n"
      ],
      "execution_count": 214,
      "outputs": []
    },
    {
      "cell_type": "code",
      "metadata": {
        "colab": {
          "base_uri": "https://localhost:8080/",
          "height": 329
        },
        "id": "29W3AnungsYu",
        "outputId": "dadfd667-f7b1-4ca5-d3df-52c0c7186bf3"
      },
      "source": [
        "title = ''\r\n",
        "for col in [\"formation_check\",\"formation_cup\"]:\r\n",
        "    plt.hist(formationDf[col], alpha=0.5, label=col)\r\n",
        "    title+=col + ' '\r\n",
        "plt.suptitle(title, fontsize=20)\r\n",
        "plt.legend(loc=\"upper right\")\r\n",
        "plt.xlabel(\"results\")\r\n",
        "plt.ylabel(\"number of tests made\")  "
      ],
      "execution_count": 215,
      "outputs": [
        {
          "output_type": "execute_result",
          "data": {
            "text/plain": [
              "Text(0, 0.5, 'number of tests made')"
            ]
          },
          "metadata": {
            "tags": []
          },
          "execution_count": 215
        },
        {
          "output_type": "display_data",
          "data": {
            "image/png": "[encoded data removed]",
            "text/plain": [
              "<Figure size 432x288 with 1 Axes>"
            ]
          },
          "metadata": {
            "tags": []
          }
        }
      ]
    },
    {
      "cell_type": "code",
      "metadata": {
        "colab": {
          "base_uri": "https://localhost:8080/",
          "height": 329
        },
        "id": "voocL4HRk15B",
        "outputId": "3aa89e38-14ed-411c-a21a-3be5613a80cb"
      },
      "source": [
        "title = ''\r\n",
        "plotDf = df[[\"con_check\",\"con_cup\"]].copy()\r\n",
        "plotDf[\"con_check\"] = plotDf[\"con_check\"].astype(float)\r\n",
        "plotDf[\"con_cup\"] = plotDf[\"con_cup\"].astype(float)\r\n",
        "for col in [\"con_check\",\"con_cup\"]:\r\n",
        "    plt.hist(plotDf[col], alpha=0.5, label=col)\r\n",
        "    title+=col + ' '\r\n",
        "plt.suptitle(title, fontsize=20)\r\n",
        "plt.legend(loc=\"upper right\")\r\n",
        "plt.xlabel(\"results\")\r\n",
        "plt.ylabel(\"number of tests made\")  "
      ],
      "execution_count": 216,
      "outputs": [
        {
          "output_type": "execute_result",
          "data": {
            "text/plain": [
              "Text(0, 0.5, 'number of tests made')"
            ]
          },
          "metadata": {
            "tags": []
          },
          "execution_count": 216
        },
        {
          "output_type": "display_data",
          "data": {
            "image/png": "[encoded data removed]",
            "text/plain": [
              "<Figure size 432x288 with 1 Axes>"
            ]
          },
          "metadata": {
            "tags": []
          }
        }
      ]
    },
    {
      "cell_type": "markdown",
      "metadata": {
        "id": "8G9mYwwILck5"
      },
      "source": [
        "השוואה של קורלציה לפי בית חולים - בוטל"
      ]
    },
    {
      "cell_type": "code",
      "metadata": {
        "id": "KvuJMOP80i5d"
      },
      "source": [
        "# move_list = []\n",
        "# consert_list = []\n",
        "# formation_list = []\n",
        "# group_names = df.hospital.unique()\n",
        "# for i, name in enumerate(group_names):\n",
        "# # for i in range(len(df.groupby(['hospital']))):\n",
        "#     hospital = df.groupby(['hospital']).get_group(name)\n",
        "#     print(\"number \", i, \"is \", name)\n",
        "# # for i in range(len(df.groupby(['code']).groups)):\n",
        "#     # hospital_acher = df.groupby(['code']).get_group(i)\n",
        "#     corr_movement = hospital[\"movement_cup\"].corr(hospital[\"movement_check\"])\n",
        "#     corr_consertrat = hospital[\"con_cup\"].corr(hospital[\"con_check\"])\n",
        "#     corr_formation = hospital[\"formation_cup\"].astype('float').corr(hospital[\"formation_check\"].astype('float'))\n",
        "#     move_list.append(corr_movement)\n",
        "#     consert_list.append(corr_consertrat)\n",
        "#     formation_list.append(corr_formation)\n",
        "# corr_df = pd.DataFrame()\n",
        "# corr_df[\"corr_movement\"] = move_list\n",
        "# corr_df[\"corr_consertrat\"] = consert_list\n",
        "# corr_df[\"corr_formation\"] = formation_list\n",
        "# corr_df.plot()"
      ],
      "execution_count": 217,
      "outputs": []
    },
    {
      "cell_type": "markdown",
      "metadata": {
        "id": "Kl0veovPRoxa"
      },
      "source": [
        "רואים שבבית החולים ביקור חולים יש הבדל גדול בקורלציה בין התזוזה לבין מבנה וריכוז"
      ]
    },
    {
      "cell_type": "markdown",
      "metadata": {
        "id": "pBfz9el6SXDe"
      },
      "source": [
        "**קורלציה לפי נפח**"
      ]
    },
    {
      "cell_type": "code",
      "metadata": {
        "id": "-zUxiUMi0i5d"
      },
      "source": [
        "# group_names = df.hospital.unique()\n",
        "# def plotCorrByHospital(df):\n",
        "#   for name in group_names:\n",
        "#   # for i in range(len(df.groupby(['hospital']))):\n",
        "#     hospital_number = df.groupby(['hospital']).get_group(name)\n",
        "#     corr_movement = hospital_number[\"movement_cup\"].corr(hospital_number[\"movement_check\"])\n",
        "#     corr_consertrat = hospital_number[\"con_cup\"].corr(hospital_number[\"con_check\"])\n",
        "#     corr_formation = hospital_number[\"formation_cup\"].astype('float').corr(hospital_number[\"formation_check\"].astype('float'))\n",
        "#     corr_df = pd.DataFrame()\n",
        "#     corr_df[\"corr_movement\"] = [corr_movement]\n",
        "#     corr_df[\"corr_consertrat\"] = [corr_consertrat]\n",
        "#     corr_df[\"corr_formation\"] = [corr_formation]\n",
        "#     plt = corr_df.plot(kind=\"bar\", title = name)\n",
        "#     plt.set_xlabel(\"x label\")\n",
        "#     plt.set_ylabel(\"y label\")\n",
        "# plotCorrByHospital(df)\n",
        "\n",
        "def getCorrAndPlot(df, **kwargs):\n",
        "  # print(\"rows with nan: \", df[df['valume'].isnull()].shape[0])\n",
        "  if kwargs['no_nan']:\n",
        "    print(\"no nan\")\n",
        "    df = df[df['valume'].notnull()]\n",
        "  print(\"row count: \", df.shape[0])\n",
        "  df['valume'] = df['valume'].astype(float)\n",
        "  df = df[df.formation_cup != 'אין']\n",
        "  df = df[df.formation_check != 'אין']\n",
        "  df = df[df.movement_cup != 'אין']\n",
        "  df = df[df.movement_check != 'אין']\n",
        "  df[\"formation_cup\"] = df[\"formation_cup\"].astype(\"float\")\n",
        "  df[\"formation_check\"] = df[\"formation_check\"].astype(\"float\")\n",
        "  df[\"movement_cup\"] = df[\"movement_cup\"].astype(\"float\")\n",
        "  df[\"movement_check\"] = df[\"movement_check\"].astype(\"float\")\n",
        "\n",
        "  corr_movement = df[\"movement_cup\"].corr(df[\"movement_check\"])\n",
        "  corr_consertrat = df[\"con_cup\"].corr(df[\"con_check\"])\n",
        "  corr_formation = df[\"formation_cup\"].corr(df[\"formation_check\"])\n",
        "  corr_df = pd.DataFrame()\n",
        "  corr_df[\"corr_movement\"] = [corr_movement]\n",
        "  corr_df[\"corr_consertrat\"] = [corr_consertrat]\n",
        "  corr_df[\"corr_formation\"] = [corr_formation]\n",
        "  print(\"corr_movement: \", corr_movement)\n",
        "  print(\"corr_consertrat: \", corr_consertrat)\n",
        "  print(\"corr_formation: \", corr_formation)\n",
        "\n",
        "  plt = corr_df.plot(kind=\"bar\", title = kwargs['name'])\n",
        "  plt.set_xlabel(\"types\")\n",
        "  plt.set_ylabel(\"corralation\")  "
      ],
      "execution_count": 218,
      "outputs": []
    },
    {
      "cell_type": "markdown",
      "metadata": {
        "id": "BjPEuBhuC8xe"
      },
      "source": [
        ""
      ]
    },
    {
      "cell_type": "code",
      "metadata": {
        "id": "udPRxJm72oyO",
        "outputId": "eae3e078-dc7a-4d19-c1df-6cdc0cfa26d1",
        "colab": {
          "base_uri": "https://localhost:8080/"
        }
      },
      "source": [
        "testDf = pd.DataFrame()\n",
        "testDf = df\n",
        "# df = df[df['valume'].notnull()]\n",
        "# df['valume'] = df['valume'].astype(float) - moved this into getCorrAndPlot function\n",
        "\n",
        "print(\"row count: \", testDf.shape[0])\n",
        "print(\"row count: \", df.shape[0])\n",
        "print(\"rows with nan: \", df[df['valume'].isnull()].shape[0])"
      ],
      "execution_count": 219,
      "outputs": [
        {
          "output_type": "stream",
          "text": [
            "row count:  125\n",
            "row count:  125\n",
            "rows with nan:  12\n"
          ],
          "name": "stdout"
        }
      ]
    },
    {
      "cell_type": "code",
      "metadata": {
        "id": "A5DwEFeMcoPC",
        "outputId": "11a2b742-8b0c-4852-9a2a-77c74f8b95cd",
        "colab": {
          "base_uri": "https://localhost:8080/",
          "height": 422
        }
      },
      "source": [
        "subDf = pd.DataFrame()\n",
        "subDf = df\n",
        "subDf = subDf[subDf.valume > 0.5]\n",
        "print(\"rows with nan: \", subDf[subDf['valume'].isnull()].shape[0])\n",
        "print(\"row count: \", subDf.shape[0])\n",
        "# getCorrAndPlot(subDf[subDf.valume < 1], name=\"under 1 and above 0.5\", no_nan = False)\n",
        "getCorrAndPlot(subDf[subDf.valume < 1], name=\"under 1 and above 0.5\", no_nan = True)"
      ],
      "execution_count": 220,
      "outputs": [
        {
          "output_type": "stream",
          "text": [
            "rows with nan:  0\n",
            "row count:  83\n",
            "no nan\n",
            "row count:  11\n",
            "corr_movement:  0.7937221900644148\n",
            "corr_consertrat:  0.752110912522267\n",
            "corr_formation:  0.440022298235597\n"
          ],
          "name": "stdout"
        },
        {
          "output_type": "display_data",
          "data": {
            "image/png": "[encoded data removed]",
            "text/plain": [
              "<Figure size 432x288 with 1 Axes>"
            ]
          },
          "metadata": {
            "tags": []
          }
        }
      ]
    },
    {
      "cell_type": "code",
      "metadata": {
        "id": "i9rwiQdxo_XG",
        "colab": {
          "base_uri": "https://localhost:8080/",
          "height": 530
        },
        "outputId": "71175023-fd34-4d52-a9e5-42b0c69a59a6"
      },
      "source": [
        "subDf = pd.DataFrame()\r\n",
        "subDf = df\r\n",
        "print(\"test row count: \", subDf.shape[0])\r\n",
        "# subDf = subDf[subDf.valume < 1]\r\n",
        "print(\"rows with nan: \", subDf[subDf['valume'].isnull()].shape[0])\r\n",
        "print(\"row count: \", subDf.shape[0])\r\n",
        "# getCorrAndPlot(subDf, name=\"under 1\", no_nan = False)\r\n",
        "getCorrAndPlot(subDf, name=\"under 1\", no_nan = True)\r\n"
      ],
      "execution_count": 221,
      "outputs": [
        {
          "output_type": "stream",
          "text": [
            "test row count:  125\n",
            "rows with nan:  12\n",
            "row count:  125\n",
            "no nan\n",
            "row count:  113\n",
            "corr_movement:  0.5764507830207897\n",
            "corr_consertrat:  0.7064774318610404\n",
            "corr_formation:  0.6654665613020916\n"
          ],
          "name": "stdout"
        },
        {
          "output_type": "stream",
          "text": [
            "/usr/local/lib/python3.6/dist-packages/ipykernel_launcher.py:24: SettingWithCopyWarning: \n",
            "A value is trying to be set on a copy of a slice from a DataFrame.\n",
            "Try using .loc[row_indexer,col_indexer] = value instead\n",
            "\n",
            "See the caveats in the documentation: https://pandas.pydata.org/pandas-docs/stable/user_guide/indexing.html#returning-a-view-versus-a-copy\n"
          ],
          "name": "stderr"
        },
        {
          "output_type": "display_data",
          "data": {
            "image/png": "[encoded data removed]",
            "text/plain": [
              "<Figure size 432x288 with 1 Axes>"
            ]
          },
          "metadata": {
            "tags": []
          }
        }
      ]
    },
    {
      "cell_type": "code",
      "metadata": {
        "id": "RMAzCvrKmk5f",
        "colab": {
          "base_uri": "https://localhost:8080/",
          "height": 404
        },
        "outputId": "88ef3aff-77a6-409b-99fa-7d8ff065e06d"
      },
      "source": [
        "subDf = pd.DataFrame()\n",
        "subDf = df\n",
        "subDf = subDf[subDf.valume >= 1]\n",
        "print(\"rows with nan: \", subDf[subDf['valume'].isnull()].shape[0])\n",
        "# getCorrAndPlot(subDf, name=\"over 1\", no_nan = False)\n",
        "getCorrAndPlot(subDf, name=\"over 1\", no_nan = True)"
      ],
      "execution_count": 222,
      "outputs": [
        {
          "output_type": "stream",
          "text": [
            "rows with nan:  0\n",
            "no nan\n",
            "row count:  72\n",
            "corr_movement:  0.6379879285633447\n",
            "corr_consertrat:  0.8495501984460926\n",
            "corr_formation:  0.655500134101425\n"
          ],
          "name": "stdout"
        },
        {
          "output_type": "display_data",
          "data": {
            "image/png": "[encoded data removed]",
            "text/plain": [
              "<Figure size 432x288 with 1 Axes>"
            ]
          },
          "metadata": {
            "tags": []
          }
        }
      ]
    },
    {
      "cell_type": "code",
      "metadata": {
        "id": "a1--XaZOYFj9"
      },
      "source": [
        ""
      ],
      "execution_count": 222,
      "outputs": []
    }
  ]
}