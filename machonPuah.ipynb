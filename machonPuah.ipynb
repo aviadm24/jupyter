{
  "nbformat": 4,
  "nbformat_minor": 0,
  "metadata": {
    "kernelspec": {
      "display_name": "Python 3",
      "language": "python",
      "name": "python3"
    },
    "language_info": {
      "codemirror_mode": {
        "name": "ipython",
        "version": 3
      },
      "file_extension": ".py",
      "mimetype": "text/x-python",
      "name": "python",
      "nbconvert_exporter": "python",
      "pygments_lexer": "ipython3",
      "version": "3.8.0"
    },
    "colab": {
      "name": "Untitled.ipynb",
      "provenance": []
    }
  },
  "cells": [
    {
      "cell_type": "markdown",
      "metadata": {
        "id": "sJJIDeAF0i5b"
      },
      "source": [
        "שאלות המחקר המבוקשות הן:\n",
        "1. מהי רמת הקורלציה בין ריכוז בבדיקות השונות, תנועה בבדיקות השונות, מבנה בבדיקות השונות.\n",
        "2. האם ניתן להגיע לנוסחה מסוימת ולפיה ככלל סטיית התקן שבין שתי הבדיקות דומה פחות או יותר.\n",
        "3. האם יש קשר בין מקום ביצוע בדיקת הכוסית לבין הקורלציה בנתונים השונים של הבדיקות (דהיינו האם עדיף לשלוח למקום שבו עושים הרבה בדיקות כוסית כי אז הן יהיו יותר מדויקות או שאין משמעות).\n",
        "4. האם דגימה של כוסית בנפח גבוה יותר (מעל 0.5 מ\"ל או מעל 1 מ\"ל) נותנת נתונים אמינים יותר?"
      ]
    },
    {
      "cell_type": "code",
      "metadata": {
        "id": "8a4UdvDn0i5b"
      },
      "source": [
        "import xlrd\n",
        "import pandas as pd\n",
        "import seaborn as sns\n",
        "\n",
        "# df = pd.read_excel(\"check.xls\", na_values=['לא ידוע', 'אין'])\n",
        "df = pd.ExcelFile(\"https://github.com/aviadm24/jupyter/blob/master/check.xls?raw=true\")\n",
        "df = pd.read_excel(df, na_values=['לא ידוע', 'אין', 'טיפה'])\n",
        "df.columns = [\"id\", \"hospital\", \"valume\", \"con_cup\", \"con_check\", \"movement_cup\", \"movement_check\", \"formation_cup\", \"formation_check\"]\n",
        "df.hospital = pd.Categorical(df.hospital)\n",
        "df['code'] = df.hospital.cat.codes\n",
        "df['formation_cup'] = df['formation_cup'].map(lambda x: str(x).lstrip('WHO').rstrip('WHO'))\n",
        "df['formation_check'] = df['formation_check'].map(lambda x: str(x).lstrip('WHO').rstrip('WHO'))"
      ],
      "execution_count": 59,
      "outputs": []
    },
    {
      "cell_type": "markdown",
      "metadata": {
        "id": "DGmT2Vb79Mx_"
      },
      "source": [
        "ניקוי הדטה כדי שנוכל לעבד אותו"
      ]
    },
    {
      "cell_type": "code",
      "metadata": {
        "colab": {
          "base_uri": "https://localhost:8080/"
        },
        "id": "NDw_-AMc0i5c",
        "outputId": "10d1663d-aa86-42c8-964c-68499719a654"
      },
      "source": [
        "import numpy as np\n",
        "import numpy.ma as ma\n",
        "\n",
        "for index,i in enumerate(df['formation_check']):\n",
        "    if isinstance(i, str):\n",
        "        try:\n",
        "            df['formation_check'][index] = int(i)\n",
        "        except:\n",
        "            pass"
      ],
      "execution_count": 60,
      "outputs": [
        {
          "output_type": "stream",
          "text": [
            "/usr/local/lib/python3.6/dist-packages/ipykernel_launcher.py:7: SettingWithCopyWarning: \n",
            "A value is trying to be set on a copy of a slice from a DataFrame\n",
            "\n",
            "See the caveats in the documentation: https://pandas.pydata.org/pandas-docs/stable/user_guide/indexing.html#returning-a-view-versus-a-copy\n",
            "  import sys\n"
          ],
          "name": "stderr"
        }
      ]
    },
    {
      "cell_type": "markdown",
      "metadata": {
        "id": "0J2zZfxq9KT0"
      },
      "source": [
        "חישוב קורלציה בין ריכוז בבדיקות השונות, תנועה בבדיקות השונות, מבנה בבדיקות השונות - בכלל בתי החולים"
      ]
    },
    {
      "cell_type": "code",
      "metadata": {
        "id": "2j6mM31I0i5c"
      },
      "source": [
        "corr_movement = df[\"movement_cup\"].astype('float').corr(df[\"movement_check\"]).astype('float')\n",
        "corr_consertrat = df[\"con_cup\"].corr(df[\"con_check\"])\n",
        "corr_formation = df[\"formation_cup\"].astype('float').corr(df[\"formation_check\"].astype('float'))\n"
      ],
      "execution_count": 61,
      "outputs": []
    },
    {
      "cell_type": "code",
      "metadata": {
        "id": "yUlDwzSx0i5c",
        "colab": {
          "base_uri": "https://localhost:8080/",
          "height": 360
        },
        "outputId": "40583187-452c-408b-ae92-5c7a921a2e1c"
      },
      "source": [
        "corrDf = pd.DataFrame()\n",
        "corrDf[\"movement\"] = [corr_movement]\n",
        "corrDf[\"consertrat\"] = [corr_consertrat]\n",
        "corrDf[\"formation\"] = [corr_formation]\n",
        "print(\"corr_movement: \", corr_movement)\n",
        "print(\"corr_consertrat: \", corr_consertrat)\n",
        "print(\"corr_formation: \", corr_formation)\n",
        "plt = corrDf.plot(kind='bar', title = \"CORRALATION IN ALL TESTS\")\n",
        "plt.set_xlabel(\"checkup types\")\n",
        "plt.set_ylabel(\"corralation\")  "
      ],
      "execution_count": 62,
      "outputs": [
        {
          "output_type": "stream",
          "text": [
            "corr_movement:  0.6318152917636762\n",
            "corr_consertrat:  0.7138309800573162\n",
            "corr_formation:  0.6590311986439481\n"
          ],
          "name": "stdout"
        },
        {
          "output_type": "execute_result",
          "data": {
            "text/plain": [
              "Text(0, 0.5, 'corralation')"
            ]
          },
          "metadata": {
            "tags": []
          },
          "execution_count": 62
        },
        {
          "output_type": "display_data",
          "data": {
            "image/png": "[encoded data removed]",
            "text/plain": [
              "<Figure size 432x288 with 1 Axes>"
            ]
          },
          "metadata": {
            "tags": [],
            "needs_background": "light"
          }
        }
      ]
    },
    {
      "cell_type": "markdown",
      "metadata": {
        "id": "Rl5mKJMGLHv2"
      },
      "source": [
        "השוואה של תזוזה בבדיקות כוסית ומבחנה"
      ]
    },
    {
      "cell_type": "code",
      "metadata": {
        "id": "n82LlAtL0i5c",
        "colab": {
          "base_uri": "https://localhost:8080/",
          "height": 419
        },
        "outputId": "a0e52651-5c8a-493a-8e0b-766e0ce58d3e"
      },
      "source": [
        "plotDf = pd.DataFrame()\n",
        "plotDf[\"moveCup\"] = df[\"movement_cup\"]\n",
        "plotDf[\"moveCheck\"] = df[\"movement_check\"]\n",
        "plotDf"
      ],
      "execution_count": 63,
      "outputs": [
        {
          "output_type": "execute_result",
          "data": {
            "text/html": [
              "<div>\n",
              "<style scoped>\n",
              "    .dataframe tbody tr th:only-of-type {\n",
              "        vertical-align: middle;\n",
              "    }\n",
              "\n",
              "    .dataframe tbody tr th {\n",
              "        vertical-align: top;\n",
              "    }\n",
              "\n",
              "    .dataframe thead th {\n",
              "        text-align: right;\n",
              "    }\n",
              "</style>\n",
              "<table border=\"1\" class=\"dataframe\">\n",
              "  <thead>\n",
              "    <tr style=\"text-align: right;\">\n",
              "      <th></th>\n",
              "      <th>moveCup</th>\n",
              "      <th>moveCheck</th>\n",
              "    </tr>\n",
              "  </thead>\n",
              "  <tbody>\n",
              "    <tr>\n",
              "      <th>0</th>\n",
              "      <td>0.0001</td>\n",
              "      <td>0.0001</td>\n",
              "    </tr>\n",
              "    <tr>\n",
              "      <th>1</th>\n",
              "      <td>25.0000</td>\n",
              "      <td>20.0000</td>\n",
              "    </tr>\n",
              "    <tr>\n",
              "      <th>2</th>\n",
              "      <td>38.0000</td>\n",
              "      <td>20.0000</td>\n",
              "    </tr>\n",
              "    <tr>\n",
              "      <th>3</th>\n",
              "      <td>30.0000</td>\n",
              "      <td>55.0000</td>\n",
              "    </tr>\n",
              "    <tr>\n",
              "      <th>4</th>\n",
              "      <td>40.0000</td>\n",
              "      <td>40.0000</td>\n",
              "    </tr>\n",
              "    <tr>\n",
              "      <th>...</th>\n",
              "      <td>...</td>\n",
              "      <td>...</td>\n",
              "    </tr>\n",
              "    <tr>\n",
              "      <th>120</th>\n",
              "      <td>0.0000</td>\n",
              "      <td>0.0000</td>\n",
              "    </tr>\n",
              "    <tr>\n",
              "      <th>121</th>\n",
              "      <td>36.0000</td>\n",
              "      <td>50.0000</td>\n",
              "    </tr>\n",
              "    <tr>\n",
              "      <th>122</th>\n",
              "      <td>54.0000</td>\n",
              "      <td>36.0000</td>\n",
              "    </tr>\n",
              "    <tr>\n",
              "      <th>123</th>\n",
              "      <td>26.0000</td>\n",
              "      <td>20.0000</td>\n",
              "    </tr>\n",
              "    <tr>\n",
              "      <th>124</th>\n",
              "      <td>4.0000</td>\n",
              "      <td>47.0000</td>\n",
              "    </tr>\n",
              "  </tbody>\n",
              "</table>\n",
              "<p>125 rows × 2 columns</p>\n",
              "</div>"
            ],
            "text/plain": [
              "     moveCup  moveCheck\n",
              "0     0.0001     0.0001\n",
              "1    25.0000    20.0000\n",
              "2    38.0000    20.0000\n",
              "3    30.0000    55.0000\n",
              "4    40.0000    40.0000\n",
              "..       ...        ...\n",
              "120   0.0000     0.0000\n",
              "121  36.0000    50.0000\n",
              "122  54.0000    36.0000\n",
              "123  26.0000    20.0000\n",
              "124   4.0000    47.0000\n",
              "\n",
              "[125 rows x 2 columns]"
            ]
          },
          "metadata": {
            "tags": []
          },
          "execution_count": 63
        }
      ]
    },
    {
      "cell_type": "code",
      "metadata": {
        "id": "jxBKBHGb0i5d",
        "colab": {
          "base_uri": "https://localhost:8080/",
          "height": 325
        },
        "outputId": "44d452c0-9e95-4aef-8930-1d19dc1710a8"
      },
      "source": [
        "import matplotlib.pyplot as plt\n",
        "title = ''\n",
        "for col in [\"moveCheck\",\"moveCup\"]:\n",
        "    plt.hist(plotDf[col], alpha=0.5, label=col)\n",
        "    title+=col + ' '\n",
        "plt.suptitle(title, fontsize=20)\n",
        "plt.legend(loc=\"upper right\")\n",
        "plt.xlabel(\"results\")\n",
        "plt.ylabel(\"number of tests made\")  "
      ],
      "execution_count": 64,
      "outputs": [
        {
          "output_type": "execute_result",
          "data": {
            "text/plain": [
              "Text(0, 0.5, 'number of tests made')"
            ]
          },
          "metadata": {
            "tags": []
          },
          "execution_count": 64
        },
        {
          "output_type": "display_data",
          "data": {
            "image/png": "[encoded data removed]",
            "text/plain": [
              "<Figure size 432x288 with 1 Axes>"
            ]
          },
          "metadata": {
            "tags": [],
            "needs_background": "light"
          }
        }
      ]
    },
    {
      "cell_type": "code",
      "metadata": {
        "id": "Jqo_mFKJeOww",
        "outputId": "4e7f185a-c374-4a2d-f72e-937775e786cc",
        "colab": {
          "base_uri": "https://localhost:8080/"
        }
      },
      "source": [
        "title = ''\r\n",
        "plotDf = df[[\"formation_check\",\"formation_cup\"]].copy()\r\n",
        "plotDf[\"formation_check\"] = plotDf[\"formation_check\"].astype(float)\r\n",
        "plotDf[\"formation_cup\"] = plotDf[\"formation_cup\"].astype(float)\r\n",
        "print(plotDf)\r\n"
      ],
      "execution_count": 65,
      "outputs": [
        {
          "output_type": "stream",
          "text": [
            "     formation_check  formation_cup\n",
            "0                2.0            0.0\n",
            "1                4.0            2.0\n",
            "2                NaN            NaN\n",
            "3                NaN           14.0\n",
            "4                NaN           13.0\n",
            "..               ...            ...\n",
            "120              0.0            0.0\n",
            "121              0.0            7.0\n",
            "122              NaN            3.0\n",
            "123              3.0            2.0\n",
            "124              9.0            NaN\n",
            "\n",
            "[125 rows x 2 columns]\n"
          ],
          "name": "stdout"
        }
      ]
    },
    {
      "cell_type": "code",
      "metadata": {
        "id": "29W3AnungsYu",
        "outputId": "e683d41f-173f-4546-b915-e19b1a6f0e1c",
        "colab": {
          "base_uri": "https://localhost:8080/",
          "height": 325
        }
      },
      "source": [
        "for col in [\"formation_check\",\"formation_cup\"]:\r\n",
        "    plt.hist(plotDf[col], alpha=0.5, label=col)\r\n",
        "    title+=col + ' '\r\n",
        "plt.suptitle(title, fontsize=20)\r\n",
        "plt.legend(loc=\"upper right\")\r\n",
        "plt.xlabel(\"results\")\r\n",
        "plt.ylabel(\"number of tests made\")  "
      ],
      "execution_count": 66,
      "outputs": [
        {
          "output_type": "execute_result",
          "data": {
            "text/plain": [
              "Text(0, 0.5, 'number of tests made')"
            ]
          },
          "metadata": {
            "tags": []
          },
          "execution_count": 66
        },
        {
          "output_type": "display_data",
          "data": {
            "image/png": "[encoded data removed]",
            "text/plain": [
              "<Figure size 432x288 with 1 Axes>"
            ]
          },
          "metadata": {
            "tags": [],
            "needs_background": "light"
          }
        }
      ]
    },
    {
      "cell_type": "code",
      "metadata": {
        "id": "voocL4HRk15B",
        "outputId": "4d973e37-8579-4e4f-e1bb-169438d702e3",
        "colab": {
          "base_uri": "https://localhost:8080/",
          "height": 325
        }
      },
      "source": [
        "title = ''\r\n",
        "plotDf = df[[\"con_check\",\"con_cup\"]].copy()\r\n",
        "plotDf[\"con_check\"] = plotDf[\"con_check\"].astype(float)\r\n",
        "plotDf[\"con_cup\"] = plotDf[\"con_cup\"].astype(float)\r\n",
        "for col in [\"con_check\",\"con_cup\"]:\r\n",
        "    plt.hist(plotDf[col], alpha=0.5, label=col)\r\n",
        "    title+=col + ' '\r\n",
        "plt.suptitle(title, fontsize=20)\r\n",
        "plt.legend(loc=\"upper right\")\r\n",
        "plt.xlabel(\"results\")\r\n",
        "plt.ylabel(\"number of tests made\")  "
      ],
      "execution_count": 67,
      "outputs": [
        {
          "output_type": "execute_result",
          "data": {
            "text/plain": [
              "Text(0, 0.5, 'number of tests made')"
            ]
          },
          "metadata": {
            "tags": []
          },
          "execution_count": 67
        },
        {
          "output_type": "display_data",
          "data": {
            "image/png": "[encoded data removed]",
            "text/plain": [
              "<Figure size 432x288 with 1 Axes>"
            ]
          },
          "metadata": {
            "tags": [],
            "needs_background": "light"
          }
        }
      ]
    },
    {
      "cell_type": "markdown",
      "metadata": {
        "id": "8G9mYwwILck5"
      },
      "source": [
        "השוואה של קורלציה לפי בית חולים - בוטל"
      ]
    },
    {
      "cell_type": "code",
      "metadata": {
        "id": "KvuJMOP80i5d"
      },
      "source": [
        "# move_list = []\n",
        "# consert_list = []\n",
        "# formation_list = []\n",
        "# group_names = df.hospital.unique()\n",
        "# for i, name in enumerate(group_names):\n",
        "# # for i in range(len(df.groupby(['hospital']))):\n",
        "#     hospital = df.groupby(['hospital']).get_group(name)\n",
        "#     print(\"number \", i, \"is \", name)\n",
        "# # for i in range(len(df.groupby(['code']).groups)):\n",
        "#     # hospital_acher = df.groupby(['code']).get_group(i)\n",
        "#     corr_movement = hospital[\"movement_cup\"].corr(hospital[\"movement_check\"])\n",
        "#     corr_consertrat = hospital[\"con_cup\"].corr(hospital[\"con_check\"])\n",
        "#     corr_formation = hospital[\"formation_cup\"].astype('float').corr(hospital[\"formation_check\"].astype('float'))\n",
        "#     move_list.append(corr_movement)\n",
        "#     consert_list.append(corr_consertrat)\n",
        "#     formation_list.append(corr_formation)\n",
        "# corr_df = pd.DataFrame()\n",
        "# corr_df[\"corr_movement\"] = move_list\n",
        "# corr_df[\"corr_consertrat\"] = consert_list\n",
        "# corr_df[\"corr_formation\"] = formation_list\n",
        "# corr_df.plot()"
      ],
      "execution_count": 68,
      "outputs": []
    },
    {
      "cell_type": "markdown",
      "metadata": {
        "id": "Kl0veovPRoxa"
      },
      "source": [
        "רואים שבבית החולים ביקור חולים יש הבדל גדול בקורלציה בין התזוזה לבין מבנה וריכוז"
      ]
    },
    {
      "cell_type": "markdown",
      "metadata": {
        "id": "pBfz9el6SXDe"
      },
      "source": [
        "**קורלציה לפי נפח**"
      ]
    },
    {
      "cell_type": "code",
      "metadata": {
        "id": "-zUxiUMi0i5d"
      },
      "source": [
        "# group_names = df.hospital.unique()\n",
        "# def plotCorrByHospital(df):\n",
        "#   for name in group_names:\n",
        "#   # for i in range(len(df.groupby(['hospital']))):\n",
        "#     hospital_number = df.groupby(['hospital']).get_group(name)\n",
        "#     corr_movement = hospital_number[\"movement_cup\"].corr(hospital_number[\"movement_check\"])\n",
        "#     corr_consertrat = hospital_number[\"con_cup\"].corr(hospital_number[\"con_check\"])\n",
        "#     corr_formation = hospital_number[\"formation_cup\"].astype('float').corr(hospital_number[\"formation_check\"].astype('float'))\n",
        "#     corr_df = pd.DataFrame()\n",
        "#     corr_df[\"corr_movement\"] = [corr_movement]\n",
        "#     corr_df[\"corr_consertrat\"] = [corr_consertrat]\n",
        "#     corr_df[\"corr_formation\"] = [corr_formation]\n",
        "#     plt = corr_df.plot(kind=\"bar\", title = name)\n",
        "#     plt.set_xlabel(\"x label\")\n",
        "#     plt.set_ylabel(\"y label\")\n",
        "# plotCorrByHospital(df)\n",
        "\n",
        "def getCorrAndPlot(df, **kwargs):\n",
        "  print(kwargs)\n",
        "  corr_movement = df[\"movement_cup\"].corr(df[\"movement_check\"])\n",
        "  corr_consertrat = df[\"con_cup\"].corr(df[\"con_check\"])\n",
        "  corr_formation = df[\"formation_cup\"].astype('float').corr(df[\"formation_check\"].astype('float'))\n",
        "  corr_df = pd.DataFrame()\n",
        "  corr_df[\"corr_movement\"] = [corr_movement]\n",
        "  corr_df[\"corr_consertrat\"] = [corr_consertrat]\n",
        "  corr_df[\"corr_formation\"] = [corr_formation]\n",
        "  print(\"corr_movement: \", corr_movement)\n",
        "  print(\"corr_consertrat: \", corr_consertrat)\n",
        "  print(\"corr_formation: \", corr_formation)\n",
        "\n",
        "  plt = corr_df.plot(kind=\"bar\", title = kwargs['name'])\n",
        "  plt.set_xlabel(\"types\")\n",
        "  plt.set_ylabel(\"corralation\")  "
      ],
      "execution_count": 69,
      "outputs": []
    },
    {
      "cell_type": "code",
      "metadata": {
        "id": "udPRxJm72oyO"
      },
      "source": [
        "df['valume'] = df['valume'].astype(float)"
      ],
      "execution_count": 70,
      "outputs": []
    },
    {
      "cell_type": "markdown",
      "metadata": {
        "id": "DsuYbiqjqf8t"
      },
      "source": [
        "השוואת קורלציה כשהנפח מתחת ל 0.5"
      ]
    },
    {
      "cell_type": "code",
      "metadata": {
        "id": "jCi8KHm1ozNZ",
        "colab": {
          "base_uri": "https://localhost:8080/",
          "height": 360
        },
        "outputId": "ec006ab5-49a5-4ede-abe3-1e6a72b405f4"
      },
      "source": [
        "getCorrAndPlot(df[df.valume < 0.5], name=\"underPoint5\")"
      ],
      "execution_count": 71,
      "outputs": [
        {
          "output_type": "stream",
          "text": [
            "{'name': 'underPoint5'}\n",
            "corr_movement:  0.640967971641035\n",
            "corr_consertrat:  0.8388417731572245\n",
            "corr_formation:  0.9318235690869403\n"
          ],
          "name": "stdout"
        },
        {
          "output_type": "display_data",
          "data": {
            "image/png": "[encoded data removed]",
            "text/plain": [
              "<Figure size 432x288 with 1 Axes>"
            ]
          },
          "metadata": {
            "tags": [],
            "needs_background": "light"
          }
        }
      ]
    },
    {
      "cell_type": "code",
      "metadata": {
        "id": "i9rwiQdxo_XG",
        "colab": {
          "base_uri": "https://localhost:8080/",
          "height": 360
        },
        "outputId": "5dd3e3fd-e606-4373-b985-f3b64ea6d0c8"
      },
      "source": [
        "getCorrAndPlot(df[df.valume >= 0.5], name=\"overPoint5\")\r\n"
      ],
      "execution_count": 72,
      "outputs": [
        {
          "output_type": "stream",
          "text": [
            "{'name': 'overPoint5'}\n",
            "corr_movement:  0.6497386957976239\n",
            "corr_consertrat:  0.7372564666096049\n",
            "corr_formation:  0.6099535186574766\n"
          ],
          "name": "stdout"
        },
        {
          "output_type": "display_data",
          "data": {
            "image/png": "[encoded data removed]",
            "text/plain": [
              "<Figure size 432x288 with 1 Axes>"
            ]
          },
          "metadata": {
            "tags": [],
            "needs_background": "light"
          }
        }
      ]
    },
    {
      "cell_type": "code",
      "metadata": {
        "id": "RMAzCvrKmk5f",
        "colab": {
          "base_uri": "https://localhost:8080/",
          "height": 360
        },
        "outputId": "b49eb5d7-7f4d-4989-ef2a-62ef7a340c2a"
      },
      "source": [
        "getCorrAndPlot(df[df.valume >= 1], name=\"over1\")"
      ],
      "execution_count": 73,
      "outputs": [
        {
          "output_type": "stream",
          "text": [
            "{'name': 'over1'}\n",
            "corr_movement:  0.6861672062037045\n",
            "corr_consertrat:  0.8380382934578277\n",
            "corr_formation:  0.655500134101425\n"
          ],
          "name": "stdout"
        },
        {
          "output_type": "display_data",
          "data": {
            "image/png": "[encoded data removed]",
            "text/plain": [
              "<Figure size 432x288 with 1 Axes>"
            ]
          },
          "metadata": {
            "tags": [],
            "needs_background": "light"
          }
        }
      ]
    },
    {
      "cell_type": "code",
      "metadata": {
        "id": "a1--XaZOYFj9"
      },
      "source": [
        ""
      ],
      "execution_count": 73,
      "outputs": []
    }
  ]
}