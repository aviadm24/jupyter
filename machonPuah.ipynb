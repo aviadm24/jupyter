{
  "nbformat": 4,
  "nbformat_minor": 0,
  "metadata": {
    "kernelspec": {
      "display_name": "Python 3",
      "language": "python",
      "name": "python3"
    },
    "language_info": {
      "codemirror_mode": {
        "name": "ipython",
        "version": 3
      },
      "file_extension": ".py",
      "mimetype": "text/x-python",
      "name": "python",
      "nbconvert_exporter": "python",
      "pygments_lexer": "ipython3",
      "version": "3.8.0"
    },
    "colab": {
      "name": "Untitled.ipynb",
      "provenance": []
    }
  },
  "cells": [
    {
      "cell_type": "markdown",
      "metadata": {
        "id": "sJJIDeAF0i5b"
      },
      "source": [
        "שאלות המחקר המבוקשות הן:\n",
        "1. מהי רמת הקורלציה בין ריכוז בבדיקות השונות, תנועה בבדיקות השונות, מבנה בבדיקות השונות.\n",
        "2. האם ניתן להגיע לנוסחה מסוימת ולפיה ככלל סטיית התקן שבין שתי הבדיקות דומה פחות או יותר.\n",
        "3. האם יש קשר בין מקום ביצוע בדיקת הכוסית לבין הקורלציה בנתונים השונים של הבדיקות (דהיינו האם עדיף לשלוח למקום שבו עושים הרבה בדיקות כוסית כי אז הן יהיו יותר מדויקות או שאין משמעות).\n",
        "4. האם דגימה של כוסית בנפח גבוה יותר (מעל 0.5 מ\"ל או מעל 1 מ\"ל) נותנת נתונים אמינים יותר?"
      ]
    },
    {
      "cell_type": "code",
      "metadata": {
        "id": "8a4UdvDn0i5b"
      },
      "source": [
        "import xlrd\n",
        "import pandas as pd\n",
        "import seaborn as sns\n",
        "\n",
        "# df = pd.read_excel(\"check.xls\", na_values=['לא ידוע', 'אין'])\n",
        "df = pd.ExcelFile(\"https://github.com/aviadm24/jupyter/blob/master/check.xls?raw=true\")\n",
        "df = pd.read_excel(df, na_values=['לא ידוע', 'טיפה']) #  , 'אין'\n",
        "df.columns = [\"id\", \"hospital\", \"valume\", \"con_cup\", \"con_check\", \"movement_cup\", \"movement_check\", \"formation_cup\", \"formation_check\"]\n",
        "df.hospital = pd.Categorical(df.hospital)\n",
        "df['code'] = df.hospital.cat.codes\n",
        "df['formation_cup'] = df['formation_cup'].map(lambda x: str(x).lstrip('WHO').rstrip('WHO'))\n",
        "df['formation_check'] = df['formation_check'].map(lambda x: str(x).lstrip('WHO').rstrip('WHO'))"
      ],
      "execution_count": 51,
      "outputs": []
    },
    {
      "cell_type": "code",
      "metadata": {
        "id": "KRJFEANem9DP",
        "colab": {
          "base_uri": "https://localhost:8080/",
          "height": 419
        },
        "outputId": "3e31cf6f-9270-4e46-8b3d-addfee33127e"
      },
      "source": [
        "df.drop(\"hospital\", axis=1)"
      ],
      "execution_count": 52,
      "outputs": [
        {
          "output_type": "execute_result",
          "data": {
            "text/html": [
              "<div>\n",
              "<style scoped>\n",
              "    .dataframe tbody tr th:only-of-type {\n",
              "        vertical-align: middle;\n",
              "    }\n",
              "\n",
              "    .dataframe tbody tr th {\n",
              "        vertical-align: top;\n",
              "    }\n",
              "\n",
              "    .dataframe thead th {\n",
              "        text-align: right;\n",
              "    }\n",
              "</style>\n",
              "<table border=\"1\" class=\"dataframe\">\n",
              "  <thead>\n",
              "    <tr style=\"text-align: right;\">\n",
              "      <th></th>\n",
              "      <th>id</th>\n",
              "      <th>valume</th>\n",
              "      <th>con_cup</th>\n",
              "      <th>con_check</th>\n",
              "      <th>movement_cup</th>\n",
              "      <th>movement_check</th>\n",
              "      <th>formation_cup</th>\n",
              "      <th>formation_check</th>\n",
              "      <th>code</th>\n",
              "    </tr>\n",
              "  </thead>\n",
              "  <tbody>\n",
              "    <tr>\n",
              "      <th>0</th>\n",
              "      <td>56674</td>\n",
              "      <td>NaN</td>\n",
              "      <td>0.2</td>\n",
              "      <td>2.0</td>\n",
              "      <td>0.0001</td>\n",
              "      <td>0.0001</td>\n",
              "      <td>0</td>\n",
              "      <td>2</td>\n",
              "      <td>0</td>\n",
              "    </tr>\n",
              "    <tr>\n",
              "      <th>1</th>\n",
              "      <td>57548</td>\n",
              "      <td>1.0</td>\n",
              "      <td>12.0</td>\n",
              "      <td>30.0</td>\n",
              "      <td>25</td>\n",
              "      <td>20</td>\n",
              "      <td>2</td>\n",
              "      <td>4</td>\n",
              "      <td>3</td>\n",
              "    </tr>\n",
              "    <tr>\n",
              "      <th>2</th>\n",
              "      <td>73934</td>\n",
              "      <td>0.5</td>\n",
              "      <td>0.8</td>\n",
              "      <td>0.5</td>\n",
              "      <td>38</td>\n",
              "      <td>20</td>\n",
              "      <td>אין</td>\n",
              "      <td>אין</td>\n",
              "      <td>3</td>\n",
              "    </tr>\n",
              "    <tr>\n",
              "      <th>3</th>\n",
              "      <td>75504</td>\n",
              "      <td>1.5</td>\n",
              "      <td>75.0</td>\n",
              "      <td>33.0</td>\n",
              "      <td>30</td>\n",
              "      <td>55</td>\n",
              "      <td>14</td>\n",
              "      <td>אין</td>\n",
              "      <td>0</td>\n",
              "    </tr>\n",
              "    <tr>\n",
              "      <th>4</th>\n",
              "      <td>76665</td>\n",
              "      <td>NaN</td>\n",
              "      <td>30.0</td>\n",
              "      <td>50.0</td>\n",
              "      <td>40</td>\n",
              "      <td>40</td>\n",
              "      <td>13</td>\n",
              "      <td>אין</td>\n",
              "      <td>2</td>\n",
              "    </tr>\n",
              "    <tr>\n",
              "      <th>...</th>\n",
              "      <td>...</td>\n",
              "      <td>...</td>\n",
              "      <td>...</td>\n",
              "      <td>...</td>\n",
              "      <td>...</td>\n",
              "      <td>...</td>\n",
              "      <td>...</td>\n",
              "      <td>...</td>\n",
              "      <td>...</td>\n",
              "    </tr>\n",
              "    <tr>\n",
              "      <th>120</th>\n",
              "      <td>100721</td>\n",
              "      <td>2.5</td>\n",
              "      <td>2.2</td>\n",
              "      <td>2.0</td>\n",
              "      <td>0</td>\n",
              "      <td>0</td>\n",
              "      <td>0</td>\n",
              "      <td>0</td>\n",
              "      <td>3</td>\n",
              "    </tr>\n",
              "    <tr>\n",
              "      <th>121</th>\n",
              "      <td>101131</td>\n",
              "      <td>3.0</td>\n",
              "      <td>14.0</td>\n",
              "      <td>8.0</td>\n",
              "      <td>36</td>\n",
              "      <td>50</td>\n",
              "      <td>7</td>\n",
              "      <td>0</td>\n",
              "      <td>0</td>\n",
              "    </tr>\n",
              "    <tr>\n",
              "      <th>122</th>\n",
              "      <td>101418</td>\n",
              "      <td>1.0</td>\n",
              "      <td>37.0</td>\n",
              "      <td>59.0</td>\n",
              "      <td>54</td>\n",
              "      <td>36</td>\n",
              "      <td>3</td>\n",
              "      <td>אין</td>\n",
              "      <td>3</td>\n",
              "    </tr>\n",
              "    <tr>\n",
              "      <th>123</th>\n",
              "      <td>101721</td>\n",
              "      <td>1.0</td>\n",
              "      <td>19.0</td>\n",
              "      <td>25.0</td>\n",
              "      <td>26</td>\n",
              "      <td>20</td>\n",
              "      <td>2</td>\n",
              "      <td>3</td>\n",
              "      <td>0</td>\n",
              "    </tr>\n",
              "    <tr>\n",
              "      <th>124</th>\n",
              "      <td>101787</td>\n",
              "      <td>0.2</td>\n",
              "      <td>75.0</td>\n",
              "      <td>240.0</td>\n",
              "      <td>4</td>\n",
              "      <td>47</td>\n",
              "      <td>אין</td>\n",
              "      <td>9</td>\n",
              "      <td>0</td>\n",
              "    </tr>\n",
              "  </tbody>\n",
              "</table>\n",
              "<p>125 rows × 9 columns</p>\n",
              "</div>"
            ],
            "text/plain": [
              "         id  valume  con_cup  ...  formation_cup formation_check code\n",
              "0     56674     NaN      0.2  ...              0               2    0\n",
              "1     57548     1.0     12.0  ...              2               4    3\n",
              "2     73934     0.5      0.8  ...            אין             אין    3\n",
              "3     75504     1.5     75.0  ...             14             אין    0\n",
              "4     76665     NaN     30.0  ...             13             אין    2\n",
              "..      ...     ...      ...  ...            ...             ...  ...\n",
              "120  100721     2.5      2.2  ...              0               0    3\n",
              "121  101131     3.0     14.0  ...              7               0    0\n",
              "122  101418     1.0     37.0  ...              3             אין    3\n",
              "123  101721     1.0     19.0  ...              2               3    0\n",
              "124  101787     0.2     75.0  ...            אין               9    0\n",
              "\n",
              "[125 rows x 9 columns]"
            ]
          },
          "metadata": {
            "tags": []
          },
          "execution_count": 52
        }
      ]
    },
    {
      "cell_type": "markdown",
      "metadata": {
        "id": "DGmT2Vb79Mx_"
      },
      "source": [
        "ניקוי הדטה כדי שנוכל לעבד אותו"
      ]
    },
    {
      "cell_type": "code",
      "metadata": {
        "colab": {
          "base_uri": "https://localhost:8080/"
        },
        "id": "NDw_-AMc0i5c",
        "outputId": "6ad16d68-12b7-4f18-8a45-d91efa4f27d8"
      },
      "source": [
        "import numpy as np\n",
        "import numpy.ma as ma\n",
        "\n",
        "for index,i in enumerate(df['formation_check']):\n",
        "    if isinstance(i, str):\n",
        "        try:\n",
        "            df['formation_check'][index] = int(i)\n",
        "        except:\n",
        "            pass"
      ],
      "execution_count": 53,
      "outputs": [
        {
          "output_type": "stream",
          "text": [
            "/usr/local/lib/python3.6/dist-packages/ipykernel_launcher.py:7: SettingWithCopyWarning: \n",
            "A value is trying to be set on a copy of a slice from a DataFrame\n",
            "\n",
            "See the caveats in the documentation: https://pandas.pydata.org/pandas-docs/stable/user_guide/indexing.html#returning-a-view-versus-a-copy\n",
            "  import sys\n"
          ],
          "name": "stderr"
        }
      ]
    },
    {
      "cell_type": "markdown",
      "metadata": {
        "id": "bz_LDIUPZKTs"
      },
      "source": [
        "מכיוון שיש בבדיקות מבנה ותזוזה שורות שבהן לא נעשה בדיקה אחת מתוך השניים לא מתייחסים לשורה זו"
      ]
    },
    {
      "cell_type": "code",
      "metadata": {
        "colab": {
          "base_uri": "https://localhost:8080/"
        },
        "id": "5xW0MyXMc08Z",
        "outputId": "0ede7b25-08df-48f6-8d11-969b74d9ccc3"
      },
      "source": [
        "formationDf = pd.DataFrame()\n",
        "formationDf[\"formation_cup\"] = df[\"formation_cup\"]\n",
        "formationDf[\"formation_check\"] = df[\"formation_check\"]\n",
        "print(\"row count: \", formationDf.shape[0])\n",
        "formationDf = formationDf[df.formation_cup != 'אין']\n",
        "print(\"row count: \", formationDf.shape[0])\n",
        "formationDf = formationDf[df.formation_check != 'אין']\n",
        "print(\"row count: \", formationDf.shape[0])\n",
        "formationDf[\"formation_cup\"] = formationDf[\"formation_cup\"].astype(\"float\")\n",
        "formationDf[\"formation_check\"] = formationDf[\"formation_check\"].astype(\"float\")\n",
        "print(formationDf)"
      ],
      "execution_count": 64,
      "outputs": [
        {
          "output_type": "stream",
          "text": [
            "row count:  125\n",
            "row count:  93\n",
            "row count:  69\n",
            "     formation_cup  formation_check\n",
            "0              0.0              2.0\n",
            "1              2.0              4.0\n",
            "5              0.0              1.0\n",
            "7              0.0              0.0\n",
            "9              3.0              3.0\n",
            "..             ...              ...\n",
            "118            2.0              1.0\n",
            "119            3.0              7.0\n",
            "120            0.0              0.0\n",
            "121            7.0              0.0\n",
            "123            2.0              3.0\n",
            "\n",
            "[69 rows x 2 columns]\n"
          ],
          "name": "stdout"
        },
        {
          "output_type": "stream",
          "text": [
            "/usr/local/lib/python3.6/dist-packages/ipykernel_launcher.py:7: UserWarning: Boolean Series key will be reindexed to match DataFrame index.\n",
            "  import sys\n"
          ],
          "name": "stderr"
        }
      ]
    },
    {
      "cell_type": "code",
      "metadata": {
        "colab": {
          "base_uri": "https://localhost:8080/"
        },
        "id": "OmeD-bKhMu7Y",
        "outputId": "a087fa88-0c21-477e-91ff-d3792417a641"
      },
      "source": [
        "movementDf = pd.DataFrame()\n",
        "movementDf[\"movement_cup\"] = df[\"movement_cup\"]\n",
        "movementDf[\"movement_check\"] = df[\"movement_check\"]\n",
        "print(\"row count: \", movementDf.shape[0])\n",
        "movementDf = movementDf[df.movement_cup != 'אין']\n",
        "print(\"row count: \", movementDf.shape[0])\n",
        "movementDf = movementDf[df.movement_check != 'אין']\n",
        "print(\"row count: \", movementDf.shape[0])\n",
        "movementDf[\"movement_cup\"] = movementDf[\"movement_cup\"].astype(\"float\")\n",
        "movementDf[\"movement_check\"] = movementDf[\"movement_check\"].astype(\"float\")\n",
        "print(movementDf)"
      ],
      "execution_count": 61,
      "outputs": [
        {
          "output_type": "stream",
          "text": [
            "row count:  125\n",
            "row count:  121\n",
            "row count:  121\n",
            "     movement_cup  movement_check\n",
            "0          0.0001          0.0001\n",
            "1         25.0000         20.0000\n",
            "2         38.0000         20.0000\n",
            "3         30.0000         55.0000\n",
            "4         40.0000         40.0000\n",
            "..            ...             ...\n",
            "120        0.0000          0.0000\n",
            "121       36.0000         50.0000\n",
            "122       54.0000         36.0000\n",
            "123       26.0000         20.0000\n",
            "124        4.0000         47.0000\n",
            "\n",
            "[121 rows x 2 columns]\n"
          ],
          "name": "stdout"
        },
        {
          "output_type": "stream",
          "text": [
            "/usr/local/lib/python3.6/dist-packages/ipykernel_launcher.py:7: UserWarning: Boolean Series key will be reindexed to match DataFrame index.\n",
            "  import sys\n"
          ],
          "name": "stderr"
        }
      ]
    },
    {
      "cell_type": "markdown",
      "metadata": {
        "id": "0J2zZfxq9KT0"
      },
      "source": [
        "חישוב קורלציה בין ריכוז בבדיקות השונות, תנועה בבדיקות השונות, מבנה בבדיקות השונות - בכלל בתי החולים"
      ]
    },
    {
      "cell_type": "code",
      "metadata": {
        "id": "EUiumZ7EpKvH",
        "colab": {
          "base_uri": "https://localhost:8080/",
          "height": 664
        },
        "outputId": "2767b052-b426-40a9-a606-5ae1316580de"
      },
      "source": [
        "import scipy.stats\n",
        "import matplotlib.pyplot as plt\n",
        "plt.style.use('ggplot')\n",
        "def regresion(df, colOne, colTwo, title):\n",
        "  x = df[colOne].fillna(0)\n",
        "  y = df[colTwo].fillna(0)\n",
        "  slope, intercept, r, p, stderr = scipy.stats.linregress(x, y)\n",
        "  print(\"standard error: \", stderr)\n",
        "  line = f'Regression line: y={intercept:.2f}+{slope:.2f}x, r={r:.2f}'\n",
        "  fig, ax = plt.subplots()\n",
        "  ax.plot(x, y, linewidth=0, marker='s', label='Data points', title=title)\n",
        "  ax.plot(x, intercept + slope * x, label=line)\n",
        "  ax.set_xlabel('x')\n",
        "  ax.set_ylabel('y')\n",
        "  ax.legend(facecolor='white')\n",
        "  plt.show()\n",
        "regresion(movementDf, \"movement_cup\", \"movement_check\", 'regresion movement')\n",
        "regresion(formationDf, \"formation_cup\", \"formation_check\", 'regresion formation')\n",
        "regresion(df, \"con_cup\", \"con_check\", 'regresion consertrat')"
      ],
      "execution_count": 85,
      "outputs": [
        {
          "output_type": "stream",
          "text": [
            "standard error:  0.08349603139077025\n"
          ],
          "name": "stdout"
        },
        {
          "output_type": "error",
          "ename": "AttributeError",
          "evalue": "ignored",
          "traceback": [
            "\u001b[0;31m---------------------------------------------------------------------------\u001b[0m",
            "\u001b[0;31mAttributeError\u001b[0m                            Traceback (most recent call last)",
            "\u001b[0;32m<ipython-input-85-79067432aa23>\u001b[0m in \u001b[0;36m<module>\u001b[0;34m()\u001b[0m\n\u001b[1;32m     15\u001b[0m   \u001b[0max\u001b[0m\u001b[0;34m.\u001b[0m\u001b[0mlegend\u001b[0m\u001b[0;34m(\u001b[0m\u001b[0mfacecolor\u001b[0m\u001b[0;34m=\u001b[0m\u001b[0;34m'white'\u001b[0m\u001b[0;34m)\u001b[0m\u001b[0;34m\u001b[0m\u001b[0;34m\u001b[0m\u001b[0m\n\u001b[1;32m     16\u001b[0m   \u001b[0mplt\u001b[0m\u001b[0;34m.\u001b[0m\u001b[0mshow\u001b[0m\u001b[0;34m(\u001b[0m\u001b[0;34m)\u001b[0m\u001b[0;34m\u001b[0m\u001b[0;34m\u001b[0m\u001b[0m\n\u001b[0;32m---> 17\u001b[0;31m \u001b[0mregresion\u001b[0m\u001b[0;34m(\u001b[0m\u001b[0mmovementDf\u001b[0m\u001b[0;34m,\u001b[0m \u001b[0;34m\"movement_cup\"\u001b[0m\u001b[0;34m,\u001b[0m \u001b[0;34m\"movement_check\"\u001b[0m\u001b[0;34m,\u001b[0m \u001b[0;34m'regresion movement'\u001b[0m\u001b[0;34m)\u001b[0m\u001b[0;34m\u001b[0m\u001b[0;34m\u001b[0m\u001b[0m\n\u001b[0m\u001b[1;32m     18\u001b[0m \u001b[0mregresion\u001b[0m\u001b[0;34m(\u001b[0m\u001b[0mformationDf\u001b[0m\u001b[0;34m,\u001b[0m \u001b[0;34m\"formation_cup\"\u001b[0m\u001b[0;34m,\u001b[0m \u001b[0;34m\"formation_check\"\u001b[0m\u001b[0;34m,\u001b[0m \u001b[0;34m'regresion formation'\u001b[0m\u001b[0;34m)\u001b[0m\u001b[0;34m\u001b[0m\u001b[0;34m\u001b[0m\u001b[0m\n\u001b[1;32m     19\u001b[0m \u001b[0mregresion\u001b[0m\u001b[0;34m(\u001b[0m\u001b[0mdf\u001b[0m\u001b[0;34m,\u001b[0m \u001b[0;34m\"con_cup\"\u001b[0m\u001b[0;34m,\u001b[0m \u001b[0;34m\"con_check\"\u001b[0m\u001b[0;34m,\u001b[0m \u001b[0;34m'regresion consertrat'\u001b[0m\u001b[0;34m)\u001b[0m\u001b[0;34m\u001b[0m\u001b[0;34m\u001b[0m\u001b[0m\n",
            "\u001b[0;32m<ipython-input-85-79067432aa23>\u001b[0m in \u001b[0;36mregresion\u001b[0;34m(df, colOne, colTwo, title)\u001b[0m\n\u001b[1;32m      9\u001b[0m   \u001b[0mline\u001b[0m \u001b[0;34m=\u001b[0m \u001b[0;34mf'Regression line: y={intercept:.2f}+{slope:.2f}x, r={r:.2f}'\u001b[0m\u001b[0;34m\u001b[0m\u001b[0;34m\u001b[0m\u001b[0m\n\u001b[1;32m     10\u001b[0m   \u001b[0mfig\u001b[0m\u001b[0;34m,\u001b[0m \u001b[0max\u001b[0m \u001b[0;34m=\u001b[0m \u001b[0mplt\u001b[0m\u001b[0;34m.\u001b[0m\u001b[0msubplots\u001b[0m\u001b[0;34m(\u001b[0m\u001b[0;34m)\u001b[0m\u001b[0;34m\u001b[0m\u001b[0;34m\u001b[0m\u001b[0m\n\u001b[0;32m---> 11\u001b[0;31m   \u001b[0max\u001b[0m\u001b[0;34m.\u001b[0m\u001b[0mplot\u001b[0m\u001b[0;34m(\u001b[0m\u001b[0mx\u001b[0m\u001b[0;34m,\u001b[0m \u001b[0my\u001b[0m\u001b[0;34m,\u001b[0m \u001b[0mlinewidth\u001b[0m\u001b[0;34m=\u001b[0m\u001b[0;36m0\u001b[0m\u001b[0;34m,\u001b[0m \u001b[0mmarker\u001b[0m\u001b[0;34m=\u001b[0m\u001b[0;34m's'\u001b[0m\u001b[0;34m,\u001b[0m \u001b[0mlabel\u001b[0m\u001b[0;34m=\u001b[0m\u001b[0;34m'Data points'\u001b[0m\u001b[0;34m,\u001b[0m \u001b[0mtitle\u001b[0m\u001b[0;34m=\u001b[0m\u001b[0mtitle\u001b[0m\u001b[0;34m)\u001b[0m\u001b[0;34m\u001b[0m\u001b[0;34m\u001b[0m\u001b[0m\n\u001b[0m\u001b[1;32m     12\u001b[0m   \u001b[0max\u001b[0m\u001b[0;34m.\u001b[0m\u001b[0mplot\u001b[0m\u001b[0;34m(\u001b[0m\u001b[0mx\u001b[0m\u001b[0;34m,\u001b[0m \u001b[0mintercept\u001b[0m \u001b[0;34m+\u001b[0m \u001b[0mslope\u001b[0m \u001b[0;34m*\u001b[0m \u001b[0mx\u001b[0m\u001b[0;34m,\u001b[0m \u001b[0mlabel\u001b[0m\u001b[0;34m=\u001b[0m\u001b[0mline\u001b[0m\u001b[0;34m)\u001b[0m\u001b[0;34m\u001b[0m\u001b[0;34m\u001b[0m\u001b[0m\n\u001b[1;32m     13\u001b[0m   \u001b[0max\u001b[0m\u001b[0;34m.\u001b[0m\u001b[0mset_xlabel\u001b[0m\u001b[0;34m(\u001b[0m\u001b[0;34m'x'\u001b[0m\u001b[0;34m)\u001b[0m\u001b[0;34m\u001b[0m\u001b[0;34m\u001b[0m\u001b[0m\n",
            "\u001b[0;32m/usr/local/lib/python3.6/dist-packages/matplotlib/axes/_axes.py\u001b[0m in \u001b[0;36mplot\u001b[0;34m(self, scalex, scaley, data, *args, **kwargs)\u001b[0m\n\u001b[1;32m   1645\u001b[0m         \"\"\"\n\u001b[1;32m   1646\u001b[0m         \u001b[0mkwargs\u001b[0m \u001b[0;34m=\u001b[0m \u001b[0mcbook\u001b[0m\u001b[0;34m.\u001b[0m\u001b[0mnormalize_kwargs\u001b[0m\u001b[0;34m(\u001b[0m\u001b[0mkwargs\u001b[0m\u001b[0;34m,\u001b[0m \u001b[0mmlines\u001b[0m\u001b[0;34m.\u001b[0m\u001b[0mLine2D\u001b[0m\u001b[0;34m)\u001b[0m\u001b[0;34m\u001b[0m\u001b[0;34m\u001b[0m\u001b[0m\n\u001b[0;32m-> 1647\u001b[0;31m         \u001b[0mlines\u001b[0m \u001b[0;34m=\u001b[0m \u001b[0;34m[\u001b[0m\u001b[0;34m*\u001b[0m\u001b[0mself\u001b[0m\u001b[0;34m.\u001b[0m\u001b[0m_get_lines\u001b[0m\u001b[0;34m(\u001b[0m\u001b[0;34m*\u001b[0m\u001b[0margs\u001b[0m\u001b[0;34m,\u001b[0m \u001b[0mdata\u001b[0m\u001b[0;34m=\u001b[0m\u001b[0mdata\u001b[0m\u001b[0;34m,\u001b[0m \u001b[0;34m**\u001b[0m\u001b[0mkwargs\u001b[0m\u001b[0;34m)\u001b[0m\u001b[0;34m]\u001b[0m\u001b[0;34m\u001b[0m\u001b[0;34m\u001b[0m\u001b[0m\n\u001b[0m\u001b[1;32m   1648\u001b[0m         \u001b[0;32mfor\u001b[0m \u001b[0mline\u001b[0m \u001b[0;32min\u001b[0m \u001b[0mlines\u001b[0m\u001b[0;34m:\u001b[0m\u001b[0;34m\u001b[0m\u001b[0;34m\u001b[0m\u001b[0m\n\u001b[1;32m   1649\u001b[0m             \u001b[0mself\u001b[0m\u001b[0;34m.\u001b[0m\u001b[0madd_line\u001b[0m\u001b[0;34m(\u001b[0m\u001b[0mline\u001b[0m\u001b[0;34m)\u001b[0m\u001b[0;34m\u001b[0m\u001b[0;34m\u001b[0m\u001b[0m\n",
            "\u001b[0;32m/usr/local/lib/python3.6/dist-packages/matplotlib/axes/_base.py\u001b[0m in \u001b[0;36m__call__\u001b[0;34m(self, *args, **kwargs)\u001b[0m\n\u001b[1;32m    214\u001b[0m                 \u001b[0mthis\u001b[0m \u001b[0;34m+=\u001b[0m \u001b[0margs\u001b[0m\u001b[0;34m[\u001b[0m\u001b[0;36m0\u001b[0m\u001b[0;34m]\u001b[0m\u001b[0;34m,\u001b[0m\u001b[0;34m\u001b[0m\u001b[0;34m\u001b[0m\u001b[0m\n\u001b[1;32m    215\u001b[0m                 \u001b[0margs\u001b[0m \u001b[0;34m=\u001b[0m \u001b[0margs\u001b[0m\u001b[0;34m[\u001b[0m\u001b[0;36m1\u001b[0m\u001b[0;34m:\u001b[0m\u001b[0;34m]\u001b[0m\u001b[0;34m\u001b[0m\u001b[0;34m\u001b[0m\u001b[0m\n\u001b[0;32m--> 216\u001b[0;31m             \u001b[0;32myield\u001b[0m \u001b[0;32mfrom\u001b[0m \u001b[0mself\u001b[0m\u001b[0;34m.\u001b[0m\u001b[0m_plot_args\u001b[0m\u001b[0;34m(\u001b[0m\u001b[0mthis\u001b[0m\u001b[0;34m,\u001b[0m \u001b[0mkwargs\u001b[0m\u001b[0;34m)\u001b[0m\u001b[0;34m\u001b[0m\u001b[0;34m\u001b[0m\u001b[0m\n\u001b[0m\u001b[1;32m    217\u001b[0m \u001b[0;34m\u001b[0m\u001b[0m\n\u001b[1;32m    218\u001b[0m     \u001b[0;32mdef\u001b[0m \u001b[0mget_next_color\u001b[0m\u001b[0;34m(\u001b[0m\u001b[0mself\u001b[0m\u001b[0;34m)\u001b[0m\u001b[0;34m:\u001b[0m\u001b[0;34m\u001b[0m\u001b[0;34m\u001b[0m\u001b[0m\n",
            "\u001b[0;32m/usr/local/lib/python3.6/dist-packages/matplotlib/axes/_base.py\u001b[0m in \u001b[0;36m_plot_args\u001b[0;34m(self, tup, kwargs)\u001b[0m\n\u001b[1;32m    362\u001b[0m                 \"non-matching shapes is deprecated.\")\n\u001b[1;32m    363\u001b[0m         return [func(x[:, j % ncx], y[:, j % ncy], kw, kwargs)\n\u001b[0;32m--> 364\u001b[0;31m                 for j in range(max(ncx, ncy))]\n\u001b[0m\u001b[1;32m    365\u001b[0m \u001b[0;34m\u001b[0m\u001b[0m\n\u001b[1;32m    366\u001b[0m \u001b[0;34m\u001b[0m\u001b[0m\n",
            "\u001b[0;32m/usr/local/lib/python3.6/dist-packages/matplotlib/axes/_base.py\u001b[0m in \u001b[0;36m<listcomp>\u001b[0;34m(.0)\u001b[0m\n\u001b[1;32m    362\u001b[0m                 \"non-matching shapes is deprecated.\")\n\u001b[1;32m    363\u001b[0m         return [func(x[:, j % ncx], y[:, j % ncy], kw, kwargs)\n\u001b[0;32m--> 364\u001b[0;31m                 for j in range(max(ncx, ncy))]\n\u001b[0m\u001b[1;32m    365\u001b[0m \u001b[0;34m\u001b[0m\u001b[0m\n\u001b[1;32m    366\u001b[0m \u001b[0;34m\u001b[0m\u001b[0m\n",
            "\u001b[0;32m/usr/local/lib/python3.6/dist-packages/matplotlib/axes/_base.py\u001b[0m in \u001b[0;36m_makeline\u001b[0;34m(self, x, y, kw, kwargs)\u001b[0m\n\u001b[1;32m    253\u001b[0m         \u001b[0mdefault_dict\u001b[0m \u001b[0;34m=\u001b[0m \u001b[0mself\u001b[0m\u001b[0;34m.\u001b[0m\u001b[0m_getdefaults\u001b[0m\u001b[0;34m(\u001b[0m\u001b[0mset\u001b[0m\u001b[0;34m(\u001b[0m\u001b[0;34m)\u001b[0m\u001b[0;34m,\u001b[0m \u001b[0mkw\u001b[0m\u001b[0;34m)\u001b[0m\u001b[0;34m\u001b[0m\u001b[0;34m\u001b[0m\u001b[0m\n\u001b[1;32m    254\u001b[0m         \u001b[0mself\u001b[0m\u001b[0;34m.\u001b[0m\u001b[0m_setdefaults\u001b[0m\u001b[0;34m(\u001b[0m\u001b[0mdefault_dict\u001b[0m\u001b[0;34m,\u001b[0m \u001b[0mkw\u001b[0m\u001b[0;34m)\u001b[0m\u001b[0;34m\u001b[0m\u001b[0;34m\u001b[0m\u001b[0m\n\u001b[0;32m--> 255\u001b[0;31m         \u001b[0mseg\u001b[0m \u001b[0;34m=\u001b[0m \u001b[0mmlines\u001b[0m\u001b[0;34m.\u001b[0m\u001b[0mLine2D\u001b[0m\u001b[0;34m(\u001b[0m\u001b[0mx\u001b[0m\u001b[0;34m,\u001b[0m \u001b[0my\u001b[0m\u001b[0;34m,\u001b[0m \u001b[0;34m**\u001b[0m\u001b[0mkw\u001b[0m\u001b[0;34m)\u001b[0m\u001b[0;34m\u001b[0m\u001b[0;34m\u001b[0m\u001b[0m\n\u001b[0m\u001b[1;32m    256\u001b[0m         \u001b[0;32mreturn\u001b[0m \u001b[0mseg\u001b[0m\u001b[0;34m\u001b[0m\u001b[0;34m\u001b[0m\u001b[0m\n\u001b[1;32m    257\u001b[0m \u001b[0;34m\u001b[0m\u001b[0m\n",
            "\u001b[0;32m/usr/local/lib/python3.6/dist-packages/matplotlib/lines.py\u001b[0m in \u001b[0;36m__init__\u001b[0;34m(self, xdata, ydata, linewidth, linestyle, color, marker, markersize, markeredgewidth, markeredgecolor, markerfacecolor, markerfacecoloralt, fillstyle, antialiased, dash_capstyle, solid_capstyle, dash_joinstyle, solid_joinstyle, pickradius, drawstyle, markevery, **kwargs)\u001b[0m\n\u001b[1;32m    398\u001b[0m         \u001b[0;31m# update kwargs before updating data to give the caller a\u001b[0m\u001b[0;34m\u001b[0m\u001b[0;34m\u001b[0m\u001b[0;34m\u001b[0m\u001b[0m\n\u001b[1;32m    399\u001b[0m         \u001b[0;31m# chance to init axes (and hence unit support)\u001b[0m\u001b[0;34m\u001b[0m\u001b[0;34m\u001b[0m\u001b[0;34m\u001b[0m\u001b[0m\n\u001b[0;32m--> 400\u001b[0;31m         \u001b[0mself\u001b[0m\u001b[0;34m.\u001b[0m\u001b[0mupdate\u001b[0m\u001b[0;34m(\u001b[0m\u001b[0mkwargs\u001b[0m\u001b[0;34m)\u001b[0m\u001b[0;34m\u001b[0m\u001b[0;34m\u001b[0m\u001b[0m\n\u001b[0m\u001b[1;32m    401\u001b[0m         \u001b[0mself\u001b[0m\u001b[0;34m.\u001b[0m\u001b[0mpickradius\u001b[0m \u001b[0;34m=\u001b[0m \u001b[0mpickradius\u001b[0m\u001b[0;34m\u001b[0m\u001b[0;34m\u001b[0m\u001b[0m\n\u001b[1;32m    402\u001b[0m         \u001b[0mself\u001b[0m\u001b[0;34m.\u001b[0m\u001b[0mind_offset\u001b[0m \u001b[0;34m=\u001b[0m \u001b[0;36m0\u001b[0m\u001b[0;34m\u001b[0m\u001b[0;34m\u001b[0m\u001b[0m\n",
            "\u001b[0;32m/usr/local/lib/python3.6/dist-packages/matplotlib/artist.py\u001b[0m in \u001b[0;36mupdate\u001b[0;34m(self, props)\u001b[0m\n\u001b[1;32m   1004\u001b[0m \u001b[0;34m\u001b[0m\u001b[0m\n\u001b[1;32m   1005\u001b[0m         \u001b[0;32mwith\u001b[0m \u001b[0mcbook\u001b[0m\u001b[0;34m.\u001b[0m\u001b[0m_setattr_cm\u001b[0m\u001b[0;34m(\u001b[0m\u001b[0mself\u001b[0m\u001b[0;34m,\u001b[0m \u001b[0meventson\u001b[0m\u001b[0;34m=\u001b[0m\u001b[0;32mFalse\u001b[0m\u001b[0;34m)\u001b[0m\u001b[0;34m:\u001b[0m\u001b[0;34m\u001b[0m\u001b[0;34m\u001b[0m\u001b[0m\n\u001b[0;32m-> 1006\u001b[0;31m             \u001b[0mret\u001b[0m \u001b[0;34m=\u001b[0m \u001b[0;34m[\u001b[0m\u001b[0m_update_property\u001b[0m\u001b[0;34m(\u001b[0m\u001b[0mself\u001b[0m\u001b[0;34m,\u001b[0m \u001b[0mk\u001b[0m\u001b[0;34m,\u001b[0m \u001b[0mv\u001b[0m\u001b[0;34m)\u001b[0m \u001b[0;32mfor\u001b[0m \u001b[0mk\u001b[0m\u001b[0;34m,\u001b[0m \u001b[0mv\u001b[0m \u001b[0;32min\u001b[0m \u001b[0mprops\u001b[0m\u001b[0;34m.\u001b[0m\u001b[0mitems\u001b[0m\u001b[0;34m(\u001b[0m\u001b[0;34m)\u001b[0m\u001b[0;34m]\u001b[0m\u001b[0;34m\u001b[0m\u001b[0;34m\u001b[0m\u001b[0m\n\u001b[0m\u001b[1;32m   1007\u001b[0m \u001b[0;34m\u001b[0m\u001b[0m\n\u001b[1;32m   1008\u001b[0m         \u001b[0;32mif\u001b[0m \u001b[0mlen\u001b[0m\u001b[0;34m(\u001b[0m\u001b[0mret\u001b[0m\u001b[0;34m)\u001b[0m\u001b[0;34m:\u001b[0m\u001b[0;34m\u001b[0m\u001b[0;34m\u001b[0m\u001b[0m\n",
            "\u001b[0;32m/usr/local/lib/python3.6/dist-packages/matplotlib/artist.py\u001b[0m in \u001b[0;36m<listcomp>\u001b[0;34m(.0)\u001b[0m\n\u001b[1;32m   1004\u001b[0m \u001b[0;34m\u001b[0m\u001b[0m\n\u001b[1;32m   1005\u001b[0m         \u001b[0;32mwith\u001b[0m \u001b[0mcbook\u001b[0m\u001b[0;34m.\u001b[0m\u001b[0m_setattr_cm\u001b[0m\u001b[0;34m(\u001b[0m\u001b[0mself\u001b[0m\u001b[0;34m,\u001b[0m \u001b[0meventson\u001b[0m\u001b[0;34m=\u001b[0m\u001b[0;32mFalse\u001b[0m\u001b[0;34m)\u001b[0m\u001b[0;34m:\u001b[0m\u001b[0;34m\u001b[0m\u001b[0;34m\u001b[0m\u001b[0m\n\u001b[0;32m-> 1006\u001b[0;31m             \u001b[0mret\u001b[0m \u001b[0;34m=\u001b[0m \u001b[0;34m[\u001b[0m\u001b[0m_update_property\u001b[0m\u001b[0;34m(\u001b[0m\u001b[0mself\u001b[0m\u001b[0;34m,\u001b[0m \u001b[0mk\u001b[0m\u001b[0;34m,\u001b[0m \u001b[0mv\u001b[0m\u001b[0;34m)\u001b[0m \u001b[0;32mfor\u001b[0m \u001b[0mk\u001b[0m\u001b[0;34m,\u001b[0m \u001b[0mv\u001b[0m \u001b[0;32min\u001b[0m \u001b[0mprops\u001b[0m\u001b[0;34m.\u001b[0m\u001b[0mitems\u001b[0m\u001b[0;34m(\u001b[0m\u001b[0;34m)\u001b[0m\u001b[0;34m]\u001b[0m\u001b[0;34m\u001b[0m\u001b[0;34m\u001b[0m\u001b[0m\n\u001b[0m\u001b[1;32m   1007\u001b[0m \u001b[0;34m\u001b[0m\u001b[0m\n\u001b[1;32m   1008\u001b[0m         \u001b[0;32mif\u001b[0m \u001b[0mlen\u001b[0m\u001b[0;34m(\u001b[0m\u001b[0mret\u001b[0m\u001b[0;34m)\u001b[0m\u001b[0;34m:\u001b[0m\u001b[0;34m\u001b[0m\u001b[0;34m\u001b[0m\u001b[0m\n",
            "\u001b[0;32m/usr/local/lib/python3.6/dist-packages/matplotlib/artist.py\u001b[0m in \u001b[0;36m_update_property\u001b[0;34m(self, k, v)\u001b[0m\n\u001b[1;32m   1000\u001b[0m                 \u001b[0;32mif\u001b[0m \u001b[0;32mnot\u001b[0m \u001b[0mcallable\u001b[0m\u001b[0;34m(\u001b[0m\u001b[0mfunc\u001b[0m\u001b[0;34m)\u001b[0m\u001b[0;34m:\u001b[0m\u001b[0;34m\u001b[0m\u001b[0;34m\u001b[0m\u001b[0m\n\u001b[1;32m   1001\u001b[0m                     raise AttributeError('{!r} object has no property {!r}'\n\u001b[0;32m-> 1002\u001b[0;31m                                          .format(type(self).__name__, k))\n\u001b[0m\u001b[1;32m   1003\u001b[0m                 \u001b[0;32mreturn\u001b[0m \u001b[0mfunc\u001b[0m\u001b[0;34m(\u001b[0m\u001b[0mv\u001b[0m\u001b[0;34m)\u001b[0m\u001b[0;34m\u001b[0m\u001b[0;34m\u001b[0m\u001b[0m\n\u001b[1;32m   1004\u001b[0m \u001b[0;34m\u001b[0m\u001b[0m\n",
            "\u001b[0;31mAttributeError\u001b[0m: 'Line2D' object has no property 'title'"
          ]
        },
        {
          "output_type": "display_data",
          "data": {
            "image/png": "[encoded data removed]",
            "text/plain": [
              "<Figure size 432x288 with 1 Axes>"
            ]
          },
          "metadata": {
            "tags": []
          }
        }
      ]
    },
    {
      "cell_type": "code",
      "metadata": {
        "id": "2j6mM31I0i5c"
      },
      "source": [
        "corr_movement = movementDf[\"movement_cup\"].corr(movementDf[\"movement_check\"])\n",
        "corr_consertrat = df[\"con_cup\"].corr(df[\"con_check\"])\n",
        "corr_formation = formationDf[\"formation_cup\"].corr(formationDf[\"formation_check\"])\n"
      ],
      "execution_count": 67,
      "outputs": []
    },
    {
      "cell_type": "code",
      "metadata": {
        "id": "yUlDwzSx0i5c",
        "colab": {
          "base_uri": "https://localhost:8080/",
          "height": 368
        },
        "outputId": "a74eb74e-ee1b-402c-d284-673120be6c25"
      },
      "source": [
        "corrDf = pd.DataFrame()\n",
        "corrDf[\"movement\"] = [corr_movement]\n",
        "corrDf[\"consertrat\"] = [corr_consertrat]\n",
        "corrDf[\"formation\"] = [corr_formation]\n",
        "print(\"corr_movement: \", corr_movement)\n",
        "print(\"corr_consertrat: \", corr_consertrat)\n",
        "print(\"corr_formation: \", corr_formation)\n",
        "plt = corrDf.plot(kind='bar', title = \"CORRALATION IN ALL TESTS\")\n",
        "plt.set_xlabel(\"checkup types\")\n",
        "plt.set_ylabel(\"corralation\")  "
      ],
      "execution_count": 68,
      "outputs": [
        {
          "output_type": "stream",
          "text": [
            "corr_movement:  0.6318152917636762\n",
            "corr_consertrat:  0.7138309800573162\n",
            "corr_formation:  0.6590311986439481\n"
          ],
          "name": "stdout"
        },
        {
          "output_type": "execute_result",
          "data": {
            "text/plain": [
              "Text(0, 0.5, 'corralation')"
            ]
          },
          "metadata": {
            "tags": []
          },
          "execution_count": 68
        },
        {
          "output_type": "display_data",
          "data": {
            "image/png": "[encoded data removed]",
            "text/plain": [
              "<Figure size 432x288 with 1 Axes>"
            ]
          },
          "metadata": {
            "tags": []
          }
        }
      ]
    },
    {
      "cell_type": "markdown",
      "metadata": {
        "id": "Rl5mKJMGLHv2"
      },
      "source": [
        "השוואה של תזוזה בבדיקות כוסית ומבחנה"
      ]
    },
    {
      "cell_type": "code",
      "metadata": {
        "id": "n82LlAtL0i5c"
      },
      "source": [
        "# plotDf = pd.DataFrame()\n",
        "# plotDf[\"moveCup\"] = df[\"movement_cup\"]\n",
        "# plotDf[\"moveCheck\"] = df[\"movement_check\"]"
      ],
      "execution_count": 69,
      "outputs": []
    },
    {
      "cell_type": "code",
      "metadata": {
        "id": "jxBKBHGb0i5d",
        "colab": {
          "base_uri": "https://localhost:8080/",
          "height": 329
        },
        "outputId": "64fca4a6-71d3-4eed-d74e-8597160fb217"
      },
      "source": [
        "import matplotlib.pyplot as plt\n",
        "title = ''\n",
        "for col in [\"movement_check\",\"movement_cup\"]:\n",
        "    plt.hist(movementDf[col], alpha=0.5, label=col)\n",
        "    title+=col + ' '\n",
        "plt.suptitle(title, fontsize=20)\n",
        "plt.legend(loc=\"upper right\")\n",
        "plt.xlabel(\"results\")\n",
        "plt.ylabel(\"number of tests made\")  "
      ],
      "execution_count": 70,
      "outputs": [
        {
          "output_type": "execute_result",
          "data": {
            "text/plain": [
              "Text(0, 0.5, 'number of tests made')"
            ]
          },
          "metadata": {
            "tags": []
          },
          "execution_count": 70
        },
        {
          "output_type": "display_data",
          "data": {
            "image/png": "[encoded data removed]",
            "text/plain": [
              "<Figure size 432x288 with 1 Axes>"
            ]
          },
          "metadata": {
            "tags": []
          }
        }
      ]
    },
    {
      "cell_type": "code",
      "metadata": {
        "id": "Jqo_mFKJeOww"
      },
      "source": [
        "# title = ''\r\n",
        "# plotDf = df[[\"formation_check\",\"formation_cup\"]].copy()\r\n",
        "# plotDf[\"formation_check\"] = plotDf[\"formation_check\"].astype(float)\r\n",
        "# plotDf[\"formation_cup\"] = plotDf[\"formation_cup\"].astype(float)\r\n",
        "# print(plotDf)\r\n"
      ],
      "execution_count": 71,
      "outputs": []
    },
    {
      "cell_type": "code",
      "metadata": {
        "colab": {
          "base_uri": "https://localhost:8080/",
          "height": 329
        },
        "id": "29W3AnungsYu",
        "outputId": "95d31372-ea0b-43df-a034-b03fc1bc34d9"
      },
      "source": [
        "title = ''\r\n",
        "for col in [\"formation_check\",\"formation_cup\"]:\r\n",
        "    plt.hist(formationDf[col], alpha=0.5, label=col)\r\n",
        "    title+=col + ' '\r\n",
        "plt.suptitle(title, fontsize=20)\r\n",
        "plt.legend(loc=\"upper right\")\r\n",
        "plt.xlabel(\"results\")\r\n",
        "plt.ylabel(\"number of tests made\")  "
      ],
      "execution_count": 73,
      "outputs": [
        {
          "output_type": "execute_result",
          "data": {
            "text/plain": [
              "Text(0, 0.5, 'number of tests made')"
            ]
          },
          "metadata": {
            "tags": []
          },
          "execution_count": 73
        },
        {
          "output_type": "display_data",
          "data": {
            "image/png": "[encoded data removed]",
            "text/plain": [
              "<Figure size 432x288 with 1 Axes>"
            ]
          },
          "metadata": {
            "tags": []
          }
        }
      ]
    },
    {
      "cell_type": "code",
      "metadata": {
        "colab": {
          "base_uri": "https://localhost:8080/",
          "height": 329
        },
        "id": "voocL4HRk15B",
        "outputId": "eb76d556-2c7f-4790-e47e-a223ea8da75e"
      },
      "source": [
        "title = ''\r\n",
        "plotDf = df[[\"con_check\",\"con_cup\"]].copy()\r\n",
        "plotDf[\"con_check\"] = plotDf[\"con_check\"].astype(float)\r\n",
        "plotDf[\"con_cup\"] = plotDf[\"con_cup\"].astype(float)\r\n",
        "for col in [\"con_check\",\"con_cup\"]:\r\n",
        "    plt.hist(plotDf[col], alpha=0.5, label=col)\r\n",
        "    title+=col + ' '\r\n",
        "plt.suptitle(title, fontsize=20)\r\n",
        "plt.legend(loc=\"upper right\")\r\n",
        "plt.xlabel(\"results\")\r\n",
        "plt.ylabel(\"number of tests made\")  "
      ],
      "execution_count": 74,
      "outputs": [
        {
          "output_type": "execute_result",
          "data": {
            "text/plain": [
              "Text(0, 0.5, 'number of tests made')"
            ]
          },
          "metadata": {
            "tags": []
          },
          "execution_count": 74
        },
        {
          "output_type": "display_data",
          "data": {
            "image/png": "[encoded data removed]",
            "text/plain": [
              "<Figure size 432x288 with 1 Axes>"
            ]
          },
          "metadata": {
            "tags": []
          }
        }
      ]
    },
    {
      "cell_type": "markdown",
      "metadata": {
        "id": "8G9mYwwILck5"
      },
      "source": [
        "השוואה של קורלציה לפי בית חולים - בוטל"
      ]
    },
    {
      "cell_type": "code",
      "metadata": {
        "id": "KvuJMOP80i5d"
      },
      "source": [
        "# move_list = []\n",
        "# consert_list = []\n",
        "# formation_list = []\n",
        "# group_names = df.hospital.unique()\n",
        "# for i, name in enumerate(group_names):\n",
        "# # for i in range(len(df.groupby(['hospital']))):\n",
        "#     hospital = df.groupby(['hospital']).get_group(name)\n",
        "#     print(\"number \", i, \"is \", name)\n",
        "# # for i in range(len(df.groupby(['code']).groups)):\n",
        "#     # hospital_acher = df.groupby(['code']).get_group(i)\n",
        "#     corr_movement = hospital[\"movement_cup\"].corr(hospital[\"movement_check\"])\n",
        "#     corr_consertrat = hospital[\"con_cup\"].corr(hospital[\"con_check\"])\n",
        "#     corr_formation = hospital[\"formation_cup\"].astype('float').corr(hospital[\"formation_check\"].astype('float'))\n",
        "#     move_list.append(corr_movement)\n",
        "#     consert_list.append(corr_consertrat)\n",
        "#     formation_list.append(corr_formation)\n",
        "# corr_df = pd.DataFrame()\n",
        "# corr_df[\"corr_movement\"] = move_list\n",
        "# corr_df[\"corr_consertrat\"] = consert_list\n",
        "# corr_df[\"corr_formation\"] = formation_list\n",
        "# corr_df.plot()"
      ],
      "execution_count": 12,
      "outputs": []
    },
    {
      "cell_type": "markdown",
      "metadata": {
        "id": "Kl0veovPRoxa"
      },
      "source": [
        "רואים שבבית החולים ביקור חולים יש הבדל גדול בקורלציה בין התזוזה לבין מבנה וריכוז"
      ]
    },
    {
      "cell_type": "markdown",
      "metadata": {
        "id": "pBfz9el6SXDe"
      },
      "source": [
        "**קורלציה לפי נפח**"
      ]
    },
    {
      "cell_type": "code",
      "metadata": {
        "id": "-zUxiUMi0i5d"
      },
      "source": [
        "# group_names = df.hospital.unique()\n",
        "# def plotCorrByHospital(df):\n",
        "#   for name in group_names:\n",
        "#   # for i in range(len(df.groupby(['hospital']))):\n",
        "#     hospital_number = df.groupby(['hospital']).get_group(name)\n",
        "#     corr_movement = hospital_number[\"movement_cup\"].corr(hospital_number[\"movement_check\"])\n",
        "#     corr_consertrat = hospital_number[\"con_cup\"].corr(hospital_number[\"con_check\"])\n",
        "#     corr_formation = hospital_number[\"formation_cup\"].astype('float').corr(hospital_number[\"formation_check\"].astype('float'))\n",
        "#     corr_df = pd.DataFrame()\n",
        "#     corr_df[\"corr_movement\"] = [corr_movement]\n",
        "#     corr_df[\"corr_consertrat\"] = [corr_consertrat]\n",
        "#     corr_df[\"corr_formation\"] = [corr_formation]\n",
        "#     plt = corr_df.plot(kind=\"bar\", title = name)\n",
        "#     plt.set_xlabel(\"x label\")\n",
        "#     plt.set_ylabel(\"y label\")\n",
        "# plotCorrByHospital(df)\n",
        "\n",
        "def getCorrAndPlot(df, **kwargs):\n",
        "  print(kwargs)\n",
        "\n",
        "  df = df[df.formation_cup != 'אין']\n",
        "  df = df[df.formation_check != 'אין']\n",
        "  df = df[df.movement_cup != 'אין']\n",
        "  df = df[df.movement_check != 'אין']\n",
        "  df[\"formation_cup\"] = df[\"formation_cup\"].astype(\"float\")\n",
        "  df[\"formation_check\"] = df[\"formation_check\"].astype(\"float\")\n",
        "  df[\"movement_cup\"] = df[\"movement_cup\"].astype(\"float\")\n",
        "  df[\"movement_check\"] = df[\"movement_check\"].astype(\"float\")\n",
        "\n",
        "  corr_movement = df[\"movement_cup\"].corr(df[\"movement_check\"])\n",
        "  corr_consertrat = df[\"con_cup\"].corr(df[\"con_check\"])\n",
        "  corr_formation = df[\"formation_cup\"].corr(df[\"formation_check\"])\n",
        "  corr_df = pd.DataFrame()\n",
        "  corr_df[\"corr_movement\"] = [corr_movement]\n",
        "  corr_df[\"corr_consertrat\"] = [corr_consertrat]\n",
        "  corr_df[\"corr_formation\"] = [corr_formation]\n",
        "  print(\"corr_movement: \", corr_movement)\n",
        "  print(\"corr_consertrat: \", corr_consertrat)\n",
        "  print(\"corr_formation: \", corr_formation)\n",
        "\n",
        "  plt = corr_df.plot(kind=\"bar\", title = kwargs['name'])\n",
        "  plt.set_xlabel(\"types\")\n",
        "  plt.set_ylabel(\"corralation\")  "
      ],
      "execution_count": 80,
      "outputs": []
    },
    {
      "cell_type": "markdown",
      "metadata": {
        "id": "BjPEuBhuC8xe"
      },
      "source": [
        ""
      ]
    },
    {
      "cell_type": "code",
      "metadata": {
        "id": "udPRxJm72oyO"
      },
      "source": [
        "df['valume'] = df['valume'].astype(float)"
      ],
      "execution_count": 81,
      "outputs": []
    },
    {
      "cell_type": "code",
      "metadata": {
        "id": "i9rwiQdxo_XG",
        "colab": {
          "base_uri": "https://localhost:8080/",
          "height": 368
        },
        "outputId": "020a30ff-0747-4531-a350-a2d68989f75f"
      },
      "source": [
        "getCorrAndPlot(df[df.valume < 1], name=\"under 1\")\r\n"
      ],
      "execution_count": 82,
      "outputs": [
        {
          "output_type": "stream",
          "text": [
            "{'name': 'under 1'}\n",
            "corr_movement:  0.6281528151097434\n",
            "corr_consertrat:  0.5465592294339519\n",
            "corr_formation:  0.6785341186815933\n"
          ],
          "name": "stdout"
        },
        {
          "output_type": "display_data",
          "data": {
            "image/png": "[encoded data removed]",
            "text/plain": [
              "<Figure size 432x288 with 1 Axes>"
            ]
          },
          "metadata": {
            "tags": []
          }
        }
      ]
    },
    {
      "cell_type": "code",
      "metadata": {
        "id": "RMAzCvrKmk5f",
        "colab": {
          "base_uri": "https://localhost:8080/",
          "height": 368
        },
        "outputId": "02b3099d-a481-49ac-9510-f73d7d8c68b8"
      },
      "source": [
        "getCorrAndPlot(df[df.valume >= 1], name=\"over 1\")"
      ],
      "execution_count": 83,
      "outputs": [
        {
          "output_type": "stream",
          "text": [
            "{'name': 'over 1'}\n",
            "corr_movement:  0.6379879285633447\n",
            "corr_consertrat:  0.8495501984460926\n",
            "corr_formation:  0.655500134101425\n"
          ],
          "name": "stdout"
        },
        {
          "output_type": "display_data",
          "data": {
            "image/png": "[encoded data removed]",
            "text/plain": [
              "<Figure size 432x288 with 1 Axes>"
            ]
          },
          "metadata": {
            "tags": []
          }
        }
      ]
    },
    {
      "cell_type": "code",
      "metadata": {
        "id": "a1--XaZOYFj9"
      },
      "source": [
        ""
      ],
      "execution_count": 83,
      "outputs": []
    }
  ]
}